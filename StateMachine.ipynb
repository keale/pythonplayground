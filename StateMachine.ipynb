{
 "cells": [
  {
   "cell_type": "markdown",
   "metadata": {},
   "source": [
    "# Eine StateMachine (SM) mit Transitions Library\n",
    "https://github.com/pytransitions/transitions?tab=readme-ov-file#table-of-contents\n"
   ]
  },
  {
   "cell_type": "markdown",
   "metadata": {},
   "source": [
    "## Asynchrone State Machine mit pytransitions und Asyncio Extension\n",
    "Beachte aus [Frequently asked questions - pytransitions](https://github.com/pytransitions/transitions/blob/master/examples/Frequently%20asked%20questions.ipynb): I have several inter-dependent machines/models and experience deadlocks.\n",
    "#### Übergabe eigener Parameter an die Transitions CallBacks\n",
    ">You can pass any number of arguments you like to the trigger.\n",
    ">\n",
    ">There is one important limitation to this approach: every callback function triggered by the state transition must be able to handle all of the arguments. This may cause problems if the callbacks each expect somewhat different data.\n",
    ">\n",
    ">To get around this, Transitions supports an alternate method for sending data. If you set `send_event=True` at Machine initialization, all arguments to the triggers will be wrapped in an EventData instance and passed on to every callback. (The EventData object also maintains internal references to the source state, model, transition, machine, and trigger associated with the event, in case you need to access these for anything.)\n",
    "\n",
    "### Beispiel aus Doku: Very asynchronous Dancing: \n",
    "https://github.com/pytransitions/transitions/blob/master/examples/Playground.ipynb"
   ]
  },
  {
   "cell_type": "code",
   "execution_count": null,
   "metadata": {},
   "outputs": [],
   "source": [
    "from transitions.extensions.asyncio import AsyncMachine\n",
    "import asyncio\n",
    "\n",
    "class Dancer:\n",
    "    \n",
    "    states = ['start', 'left_food_left', 'left', 'right_food_right']\n",
    "    \n",
    "    def __init__(self, name, beat):\n",
    "        self.my_name = name\n",
    "        self.my_beat = beat\n",
    "        self.moves_done = 0\n",
    "        \n",
    "    async def on_enter_start(self):\n",
    "        self.moves_done += 1\n",
    "        \n",
    "    async def wait(self):\n",
    "        print(f'{self.my_name} stepped {self.state}')\n",
    "        await asyncio.sleep(self.my_beat)\n",
    "\n",
    "    async def dance(self):\n",
    "        while self.moves_done < 5:\n",
    "            await self.step() #Acthung, dieser State muss mit \n",
    "        \n",
    "dancer1 = Dancer('Tick', 0.5)\n",
    "dancer2 = Dancer('Tock', 0.55)\n",
    "\n",
    "m = AsyncMachine(model=[dancer1, dancer2], states=Dancer.states, initial='start', after_state_change='wait')\n",
    "m.add_ordered_transitions(trigger='step')\n",
    "\n",
    "# it starts okay but becomes quite a mess\n",
    "_ = await asyncio.gather(dancer1.dance(), dancer2.dance()) "
   ]
  },
  {
   "cell_type": "markdown",
   "metadata": {},
   "source": [
    "## Benuzte AsyncState explizit\n",
    "Ziel ist die Fähigkeit das State Design Pattern nach GoF zu programmieren\n",
    "\n",
    "Beachte Antwort von Alexander Neumann ([aleneum](https://github.com/aleneum)) auf  [SO](https://stackoverflow.com/questions/78853312/how-to-use-asyncstate-class-of-pytransitions-asyncio-extension-explicitly/78855445#78855445 )"
   ]
  },
  {
   "cell_type": "code",
   "execution_count": null,
   "metadata": {},
   "outputs": [],
   "source": [
    "from transitions.extensions.asyncio import AsyncMachine, AsyncState, AsyncEventData\n",
    "import asyncio\n",
    "import nest_asyncio\n",
    "nest_asyncio.apply()\n",
    "\n",
    "\n",
    "class StartState(AsyncState):\n",
    "    def __init__(self, name, *args, **kwargs) -> None:\n",
    "        super().__init__(name, *args, **kwargs)\n",
    "        self.add_callback('enter', self.on_enter_state)\n",
    "\n",
    "    async def on_enter_state(self, eventdata: AsyncEventData):\n",
    "        print(\"On_enter start state\")\n",
    "        eventdata.model.moves_done += 1\n",
    "\n",
    "\n",
    "class Dancer:\n",
    "    states = [StartState(name='start'), 'left_food_left', 'left', 'right_food_right']\n",
    "\n",
    "    def __init__(self, name, beat):\n",
    "        self.my_name = name\n",
    "        self.my_beat = beat\n",
    "        self.moves_done = 0\n",
    "\n",
    "    async def wait(self, event_data: AsyncEventData):\n",
    "        print(f'{self.my_name} stepped {self.state}')\n",
    "        await asyncio.sleep(self.my_beat)\n",
    "\n",
    "    async def dance(self):\n",
    "        while self.moves_done < 5:\n",
    "            await self.step()\n",
    "\n",
    "\n",
    "dancer1 = Dancer('Tick', 1)\n",
    "dancer2 = Dancer('Tock', 1.1)\n",
    "\n",
    "m = AsyncMachine(model=[dancer1, dancer2], states=Dancer.states, initial='start', after_state_change='wait', send_event=True)\n",
    "m.add_ordered_transitions(trigger='step')\n",
    "\n",
    "async def main():\n",
    "    await asyncio.gather(dancer1.dance(), dancer2.dance())\n",
    "\n",
    "asyncio.run(main())"
   ]
  },
  {
   "cell_type": "markdown",
   "metadata": {},
   "source": [
    "# Übung: Heizung"
   ]
  },
  {
   "cell_type": "code",
   "execution_count": 36,
   "metadata": {},
   "outputs": [],
   "source": [
    "from transitions.extensions.asyncio import AsyncMachine, AsyncState, AsyncEventData, AsyncEvent\n",
    "import asyncio\n",
    "import datetime\n",
    "\n",
    "def convert_to_time_obj(time_str):\n",
    "    return datetime.strptime(time_str, \"%H:%M\").time()\n",
    "\n",
    "def is_within_on_time_ranges(current_time, on_times, off_times):\n",
    "    current_time = convert_to_time_obj(current_time)\n",
    "    \n",
    "    for on_time_str, off_time_str in zip(on_times, off_times):\n",
    "        on_time = convert_to_time_obj(on_time_str)\n",
    "        off_time = convert_to_time_obj(off_time_str)\n",
    "\n",
    "        if on_time <= off_time:\n",
    "            if on_time <= current_time <= off_time:\n",
    "                return True\n",
    "        else:\n",
    "            # Dieser Fall behandelt Zeiten, die über Mitternacht gehen, z.B. 23:00 - 02:00\n",
    "            if current_time >= on_time or current_time <= off_time:\n",
    "                return True\n",
    "    return False\n",
    "\n",
    "\n",
    "class Heizung:\n",
    "    states = ['off','abkuehlen', 'heizen', 'error']\n",
    "    transitions = [\n",
    "            { 'trigger': 'einschalten', 'source': 'off', 'dest': 'abkuehlen' },\n",
    "            { 'trigger': 'heizung_an', 'source': 'abkuehlen', 'dest': 'heizen' },\n",
    "            { 'trigger': 'heizung_aus', 'source': 'heizen', 'dest': 'abkuehlen' },\n",
    "            { 'trigger': 'ausschalten', 'source': '*', 'dest': 'off' }\n",
    "        ]\n",
    "    \n",
    "    def __init__(self, targetT = 40, raumT = 18, on_times=[\"05:00\", \"14:00\"], off_times = [\"07:00\", \"18:00\"]) -> None:\n",
    "        self.sm = AsyncMachine(model=self, states = self.states, initial = 'off', transitions = self.transitions, send_event=True)\n",
    "        self.targetT = targetT\n",
    "        self.raumT = raumT\n",
    "        self.switchEvent = AsyncEvent\n",
    "        self.on_times = on_times\n",
    "        self.off_times = off_times\n",
    "        self.kessel_T = raumT\n",
    "        self.state_task = None  # Referenz auf die heizen oder Abkühl-Task\n",
    "\n",
    "    async def cancel_state_task(self):\n",
    "        if self.state_task is not None:\n",
    "            print(\"Beende Aktuellen Task\")\n",
    "            self.state_task.cancel()\n",
    "            try:\n",
    "                await self.state_task\n",
    "            except asyncio.CancelledError:\n",
    "                print(\"Task wurde beendet.\")\n",
    "\n",
    "    async def on_enter_heizen(self, event_data: AsyncEventData):\n",
    "        print(\"Ich schalte den Kessel EIN\")\n",
    "        await self.cancel_state_task()\n",
    "        if self.state_task is None or self.state_task.done():\n",
    "            self.state_task = asyncio.create_task(self.do_heizen())\n",
    "\n",
    "    async def on_exit_heizen(self, event_data: AsyncEventData):\n",
    "        await self.cancel_state_task()\n",
    "\n",
    "    async def do_heizen(self):\n",
    "        '''\n",
    "            Soll in einem eigenen Task oder Eventschleife ausgeführt werden.\n",
    "        '''\n",
    "        while True:\n",
    "            if self.kessel_T < self.targetT:\n",
    "                self.kessel_T += 0.5\n",
    "            print(f\"Heize, Kesseltemperatur: {self.kessel_T}°C\")\n",
    "            await asyncio.sleep(1.0)\n",
    "\n",
    "    async def on_enter_abkuehlen(self, event_data: AsyncEventData):\n",
    "        print(\"Ich bin nun in Kessel AUS Zustand\")\n",
    "        if self.state_task is None or self.state_task.done():\n",
    "                self.state_task = asyncio.create_task(self.do_abkuehlen())        \n",
    "\n",
    "    async def do_abkuehlen(self):\n",
    "        '''\n",
    "            Soll in einem eigenen Task ausgeführt werden.\n",
    "        '''\n",
    "        while True:\n",
    "            if self.kessel_T > self.raumT:\n",
    "                self.kessel_T -= 0.1\n",
    "            print(f\"Kessel ist aus, Kesseltemperatur: {self.kessel_T}°C\")\n",
    "            await asyncio.sleep(1.0)\n",
    "\n",
    "    async def zeit_checken(self, testtime: str):    \n",
    "        self.heizung_an() if is_within_on_time_ranges(testtime, self.on_times, self.off_times) else self.heizung_aus()\n",
    "\n",
    "    async def on_enter_off(self, event_data):\n",
    "        print(\"Schalte alles aus\")\n",
    "        await self.cancel_state_task()\n",
    "\n",
    "    async def on_enter_error():\n",
    "        print(\"Oh, nein: Störung, versuche aus und einzuschalten\")\n",
    "\n",
    "h = Heizung()"
   ]
  },
  {
   "cell_type": "code",
   "execution_count": 37,
   "metadata": {},
   "outputs": [
    {
     "data": {
      "text/plain": [
       "'off'"
      ]
     },
     "execution_count": 37,
     "metadata": {},
     "output_type": "execute_result"
    }
   ],
   "source": [
    "h.state"
   ]
  },
  {
   "cell_type": "code",
   "execution_count": 38,
   "metadata": {},
   "outputs": [
    {
     "name": "stdout",
     "output_type": "stream",
     "text": [
      "Ich bin nun in Kessel AUS Zustand\n",
      "Kessel ist aus, Kesseltemperatur: 18°C\n"
     ]
    },
    {
     "data": {
      "text/plain": [
       "True"
      ]
     },
     "execution_count": 38,
     "metadata": {},
     "output_type": "execute_result"
    },
    {
     "name": "stdout",
     "output_type": "stream",
     "text": [
      "Kessel ist aus, Kesseltemperatur: 18°C\n"
     ]
    }
   ],
   "source": [
    "await h.einschalten()"
   ]
  },
  {
   "cell_type": "code",
   "execution_count": 39,
   "metadata": {},
   "outputs": [
    {
     "name": "stdout",
     "output_type": "stream",
     "text": [
      "Ich schalte den Kessel EIN\n",
      "Beende Aktuellen Task\n",
      "Task wurde beendet.\n",
      "Heize, Kesseltemperatur: 18.5°C\n"
     ]
    },
    {
     "data": {
      "text/plain": [
       "True"
      ]
     },
     "execution_count": 39,
     "metadata": {},
     "output_type": "execute_result"
    },
    {
     "name": "stdout",
     "output_type": "stream",
     "text": [
      "Heize, Kesseltemperatur: 19.0°C\n",
      "Heize, Kesseltemperatur: 19.5°C\n"
     ]
    }
   ],
   "source": [
    "await h.heizung_an()"
   ]
  },
  {
   "cell_type": "code",
   "execution_count": 40,
   "metadata": {},
   "outputs": [
    {
     "name": "stdout",
     "output_type": "stream",
     "text": [
      "Beende Aktuellen Task\n",
      "Task wurde beendet.\n",
      "Ich bin nun in Kessel AUS Zustand\n",
      "Kessel ist aus, Kesseltemperatur: 19.4°C\n"
     ]
    },
    {
     "data": {
      "text/plain": [
       "True"
      ]
     },
     "execution_count": 40,
     "metadata": {},
     "output_type": "execute_result"
    },
    {
     "name": "stdout",
     "output_type": "stream",
     "text": [
      "Kessel ist aus, Kesseltemperatur: 19.299999999999997°C\n",
      "Kessel ist aus, Kesseltemperatur: 19.199999999999996°C\n",
      "Kessel ist aus, Kesseltemperatur: 19.099999999999994°C\n"
     ]
    }
   ],
   "source": [
    "await h.heizung_aus()"
   ]
  },
  {
   "cell_type": "code",
   "execution_count": 41,
   "metadata": {},
   "outputs": [
    {
     "name": "stdout",
     "output_type": "stream",
     "text": [
      "Schalte alles aus\n",
      "Beende Aktuellen Task\n",
      "Task wurde beendet.\n"
     ]
    },
    {
     "data": {
      "text/plain": [
       "True"
      ]
     },
     "execution_count": 41,
     "metadata": {},
     "output_type": "execute_result"
    }
   ],
   "source": [
    "await h.ausschalten()"
   ]
  },
  {
   "cell_type": "code",
   "execution_count": 42,
   "metadata": {},
   "outputs": [
    {
     "data": {
      "text/plain": [
       "'off'"
      ]
     },
     "execution_count": 42,
     "metadata": {},
     "output_type": "execute_result"
    }
   ],
   "source": [
    "h.state"
   ]
  },
  {
   "cell_type": "code",
   "execution_count": null,
   "metadata": {},
   "outputs": [],
   "source": []
  }
 ],
 "metadata": {
  "kernelspec": {
   "display_name": "Python 3",
   "language": "python",
   "name": "python3"
  },
  "language_info": {
   "codemirror_mode": {
    "name": "ipython",
    "version": 3
   },
   "file_extension": ".py",
   "mimetype": "text/x-python",
   "name": "python",
   "nbconvert_exporter": "python",
   "pygments_lexer": "ipython3",
   "version": "3.12.4"
  }
 },
 "nbformat": 4,
 "nbformat_minor": 4
}
