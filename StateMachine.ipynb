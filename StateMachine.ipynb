{
 "cells": [
  {
   "cell_type": "markdown",
   "metadata": {},
   "source": [
    "# Eine StateMachine (SM) mit PyTransitions Library\n",
    "https://github.com/pytransitions/transitions?tab=readme-ov-file#table-of-contents\n",
    "\n",
    "Wichtig zu Verstehen ist, dass diese Bibliothek anders als State Pattern von GoF designt ist. Pytransitions unterscheidet zwischen Model und Zustandautomaten.\n",
    "\n",
    "## Z.B. Model Tür:\n",
    "\n"
   ]
  },
  {
   "cell_type": "code",
   "execution_count": null,
   "metadata": {},
   "outputs": [],
   "source": [
    "# Model einer Tür\n",
    "class Door:\n",
    "    def __init__(self, name):\n",
    "        self.name = name\n",
    "\n",
    "    def on_open(self):\n",
    "        print(f\"{self.name} ist jetzt offen.\")\n",
    "\n",
    "    def on_close(self):\n",
    "        print(f\"{self.name} ist jetzt geschlossen.\")\n",
    "\n",
    "    def on_lock(self):\n",
    "        print(f\"{self.name} ist jetzt verschlossen.\")\n",
    "        \n",
    "    def on_unlock(self):\n",
    "        print(f\"{self.name} ist jetzt entsperrt.\")\n"
   ]
  },
  {
   "cell_type": "markdown",
   "metadata": {},
   "source": [
    "## Zustandsautomat"
   ]
  },
  {
   "cell_type": "code",
   "execution_count": null,
   "metadata": {},
   "outputs": [],
   "source": [
    "from transitions import Machine\n",
    "\n",
    "class DoorStateMachine(Machine):\n",
    "    def __init__(self, model):\n",
    "        # Definition der Zustände\n",
    "        states = ['geschlossen', 'offen', 'verschlossen']\n",
    "\n",
    "        # Definition der Übergänge\n",
    "        # before bezieht sich auf Transition! \n",
    "        transitions = [\n",
    "            {'trigger': 'open', 'source': 'geschlossen', 'dest': 'offen', 'before': 'on_open'}, # Führe im Zustand on_open aus, bevor SM zu Z open wechselt \n",
    "            {'trigger': 'close', 'source': 'offen', 'dest': 'geschlossen', 'before': 'on_close'},\n",
    "            {'trigger': 'lock', 'source': 'geschlossen', 'dest': 'verschlossen', 'before': 'on_lock'},\n",
    "            {'trigger': 'unlock', 'source': 'verschlossen', 'dest': 'geschlossen', 'before': 'on_unlock'}\n",
    "        ]\n",
    "\n",
    "        # Initialisieren der Machine mit den Zuständen und Übergängen\n",
    "        super().__init__(model=model, states=states, transitions=transitions, initial='geschlossen')\n"
   ]
  },
  {
   "cell_type": "markdown",
   "metadata": {},
   "source": [
    "## Verknüpfung zw. Model und Zustandsautomaten"
   ]
  },
  {
   "cell_type": "code",
   "execution_count": null,
   "metadata": {},
   "outputs": [],
   "source": [
    "# Erstellen eines Door-Objekts (Model)\n",
    "door = Door(name=\"Haustür\")\n",
    "\n",
    "# Erstellen der Zustandsmaschine und Verknüpfung mit dem Model\n",
    "door_machine = DoorStateMachine(model=door)\n",
    "\n",
    "# Zustandsübergänge ausführen\n",
    "door.open()   # Haustür ist jetzt offen.\n",
    "door.close()  # Haustür ist jetzt geschlossen.\n",
    "door.lock()   # Haustür ist jetzt verschlossen.\n",
    "door.unlock() # Haustür ist jetzt entsperrt."
   ]
  },
  {
   "cell_type": "markdown",
   "metadata": {},
   "source": [
    "### Beispiel für ein verbotenen Übergang"
   ]
  },
  {
   "cell_type": "code",
   "execution_count": null,
   "metadata": {},
   "outputs": [],
   "source": [
    "door.lock()\n",
    "door.open() #==> MachineError: \"Can't trigger event lock from state verschlossen!\""
   ]
  },
  {
   "cell_type": "code",
   "execution_count": null,
   "metadata": {},
   "outputs": [],
   "source": [
    "door.unlock()\n",
    "door.open()\n",
    "door.lock() #==> MachineError: \"Can't trigger event lock from state offen!\""
   ]
  },
  {
   "cell_type": "markdown",
   "metadata": {},
   "source": [
    "## Asynchrone State Machine mit pytransitions und Asyncio Extension\n",
    "Beachte aus [Frequently asked questions - pytransitions](https://github.com/pytransitions/transitions/blob/master/examples/Frequently%20asked%20questions.ipynb): I have several inter-dependent machines/models and experience deadlocks.\n",
    "#### Übergabe eigener Parameter an die Transitions CallBacks\n",
    ">You can pass any number of arguments you like to the trigger.\n",
    ">\n",
    ">There is one important limitation to this approach: every callback function triggered by the state transition must be able to handle all of the arguments. This may cause problems if the callbacks each expect somewhat different data.\n",
    ">\n",
    ">To get around this, Transitions supports an alternate method for sending data. If you set `send_event=True` at Machine initialization, all arguments to the triggers will be wrapped in an EventData instance and passed on to every callback. (The EventData object also maintains internal references to the source state, model, transition, machine, and trigger associated with the event, in case you need to access these for anything.)\n",
    "\n",
    "### Beispiel aus Doku: Very asynchronous Dancing: \n",
    "https://github.com/pytransitions/transitions/blob/master/examples/Playground.ipynb"
   ]
  },
  {
   "cell_type": "code",
   "execution_count": null,
   "metadata": {},
   "outputs": [],
   "source": [
    "from transitions.extensions.asyncio import AsyncMachine\n",
    "import asyncio\n",
    "\n",
    "class Dancer:\n",
    "    \n",
    "    states = ['start', 'left_food_left', 'left', 'right_food_right']\n",
    "    \n",
    "    def __init__(self, name, beat):\n",
    "        self.my_name = name\n",
    "        self.my_beat = beat\n",
    "        self.moves_done = 0\n",
    "        \n",
    "    async def on_enter_start(self):\n",
    "        self.moves_done += 1\n",
    "        \n",
    "    async def wait(self):\n",
    "        print(f'{self.my_name} stepped {self.state}')\n",
    "        await asyncio.sleep(self.my_beat)\n",
    "\n",
    "    async def dance(self):\n",
    "        while self.moves_done < 5:\n",
    "            await self.step() #Acthung, dieser State muss mit \n",
    "        \n",
    "dancer1 = Dancer('Tick', 0.5)\n",
    "dancer2 = Dancer('Tock', 0.55)\n",
    "\n",
    "m = AsyncMachine(model=[dancer1, dancer2], states=Dancer.states, initial='start', after_state_change='wait')\n",
    "m.add_ordered_transitions(trigger='step')\n",
    "\n",
    "# it starts okay but becomes quite a mess\n",
    "_ = await asyncio.gather(dancer1.dance(), dancer2.dance()) "
   ]
  },
  {
   "cell_type": "markdown",
   "metadata": {},
   "source": [
    "## Benuzte AsyncState explizit\n",
    "Ziel ist die Fähigkeit das State Design Pattern nach GoF zu programmieren\n",
    "\n",
    "Beachte Antwort von Alexander Neumann ([aleneum](https://github.com/aleneum)) auf  [SO](https://stackoverflow.com/questions/78853312/how-to-use-asyncstate-class-of-pytransitions-asyncio-extension-explicitly/78855445#78855445 )"
   ]
  },
  {
   "cell_type": "code",
   "execution_count": null,
   "metadata": {},
   "outputs": [],
   "source": [
    "from transitions.extensions.asyncio import AsyncMachine, AsyncState, AsyncEventData\n",
    "import asyncio\n",
    "import nest_asyncio\n",
    "nest_asyncio.apply()\n",
    "\n",
    "\n",
    "class StartState(AsyncState):\n",
    "    def __init__(self, name, *args, **kwargs) -> None:\n",
    "        super().__init__(name, *args, **kwargs)\n",
    "        self.add_callback('enter', self.on_enter_state)\n",
    "\n",
    "    async def on_enter_state(self, eventdata: AsyncEventData):\n",
    "        print(\"On_enter start state\")\n",
    "        eventdata.model.moves_done += 1\n",
    "\n",
    "\n",
    "class Dancer:\n",
    "    states = [StartState(name='start'), 'left_food_left', 'left', 'right_food_right']\n",
    "\n",
    "    def __init__(self, name, beat):\n",
    "        self.my_name = name\n",
    "        self.my_beat = beat\n",
    "        self.moves_done = 0\n",
    "\n",
    "    async def wait(self, event_data: AsyncEventData):\n",
    "        print(f'{self.my_name} stepped {self.state}')\n",
    "        await asyncio.sleep(self.my_beat)\n",
    "\n",
    "    async def dance(self):\n",
    "        while self.moves_done < 5:\n",
    "            await self.step()\n",
    "\n",
    "\n",
    "dancer1 = Dancer('Tick', 1)\n",
    "dancer2 = Dancer('Tock', 1.1)\n",
    "\n",
    "m = AsyncMachine(model=[dancer1, dancer2], states=Dancer.states, initial='start', after_state_change='wait', send_event=True)\n",
    "m.add_ordered_transitions(trigger='step')\n",
    "\n",
    "async def main():\n",
    "    await asyncio.gather(dancer1.dance(), dancer2.dance())\n",
    "\n",
    "asyncio.run(main())"
   ]
  },
  {
   "cell_type": "markdown",
   "metadata": {},
   "source": [
    "# Übung: Heizung"
   ]
  },
  {
   "cell_type": "code",
   "execution_count": null,
   "metadata": {},
   "outputs": [],
   "source": [
    "from transitions.extensions.asyncio import AsyncMachine, AsyncState, AsyncEventData, AsyncEvent\n",
    "import asyncio\n",
    "import datetime\n",
    "\n",
    "def convert_to_time_obj(time_str):\n",
    "    return datetime.strptime(time_str, \"%H:%M\").time()\n",
    "\n",
    "def is_within_on_time_ranges(current_time, on_times, off_times):\n",
    "    current_time = convert_to_time_obj(current_time)\n",
    "    \n",
    "    for on_time_str, off_time_str in zip(on_times, off_times):\n",
    "        on_time = convert_to_time_obj(on_time_str)\n",
    "        off_time = convert_to_time_obj(off_time_str)\n",
    "\n",
    "        if on_time <= off_time:\n",
    "            if on_time <= current_time <= off_time:\n",
    "                return True\n",
    "        else:\n",
    "            # Dieser Fall behandelt Zeiten, die über Mitternacht gehen, z.B. 23:00 - 02:00\n",
    "            if current_time >= on_time or current_time <= off_time:\n",
    "                return True\n",
    "    return False\n",
    "\n",
    "\n",
    "class Heizung:\n",
    "    states = ['off','abkuehlen', 'heizen', 'error']\n",
    "    transitions = [\n",
    "            { 'trigger': 'einschalten', 'source': 'off', 'dest': 'abkuehlen' },\n",
    "            { 'trigger': 'heizung_an', 'source': 'abkuehlen', 'dest': 'heizen' },\n",
    "            { 'trigger': 'heizung_aus', 'source': 'heizen', 'dest': 'abkuehlen' },\n",
    "            { 'trigger': 'ausschalten', 'source': '*', 'dest': 'off' },\n",
    "            { 'trigger': 'kaputt', 'source': '*', 'dest': 'error', 'after':'cancel_state_task' }   \n",
    "        ]\n",
    "    \n",
    "    def __init__(self, targetT = 40, raumT = 18, on_times=[\"05:00\", \"14:00\"], off_times = [\"07:00\", \"18:00\"]) -> None:\n",
    "        self.sm = AsyncMachine(model=self, states = self.states, initial = 'off', transitions = self.transitions, send_event=True)\n",
    "        self.targetT = targetT\n",
    "        self.raumT = raumT\n",
    "        self.switchEvent = AsyncEvent\n",
    "        self.on_times = on_times\n",
    "        self.off_times = off_times\n",
    "        self.kessel_T = raumT\n",
    "        self.state_task = None  # Referenz auf die heizen oder Abkühl-Task\n",
    "\n",
    "    async def cancel_state_task(self, event_data = None):\n",
    "        if self.state_task is not None:\n",
    "            print(\"Beende Aktuellen Task\")\n",
    "            self.state_task.cancel()\n",
    "            try:\n",
    "                await self.state_task\n",
    "            except asyncio.CancelledError:\n",
    "                print(\"Task wurde beendet.\")\n",
    "\n",
    "    async def on_enter_heizen(self, event_data: AsyncEventData):\n",
    "        print(\"Ich schalte den Kessel EIN\")\n",
    "        await self.cancel_state_task()\n",
    "        if self.state_task is None or self.state_task.done():\n",
    "            self.state_task = asyncio.create_task(self.do_heizen())\n",
    "\n",
    "    async def on_exit_heizen(self, event_data: AsyncEventData):\n",
    "        await self.cancel_state_task()\n",
    "\n",
    "    async def do_heizen(self):\n",
    "        '''\n",
    "            Soll in einem eigenen Task oder Eventschleife ausgeführt werden.\n",
    "        '''\n",
    "        while True:\n",
    "            if self.kessel_T < self.targetT:\n",
    "                self.kessel_T += 0.5\n",
    "            print(f\"Heize, Kesseltemperatur: {self.kessel_T}°C\")\n",
    "            await asyncio.sleep(1.0)\n",
    "\n",
    "    async def on_enter_abkuehlen(self, event_data: AsyncEventData):\n",
    "        print(\"Ich bin nun in Kessel AUS Zustand\")\n",
    "        if self.state_task is None or self.state_task.done():\n",
    "                self.state_task = asyncio.create_task(self.do_abkuehlen())        \n",
    "\n",
    "    async def do_abkuehlen(self):\n",
    "        '''\n",
    "            Soll in einem eigenen Task ausgeführt werden.\n",
    "        '''\n",
    "        while True:\n",
    "            if self.kessel_T > self.raumT:\n",
    "                self.kessel_T -= 0.1\n",
    "            print(f\"Kessel ist aus, Kesseltemperatur: {self.kessel_T}°C\")\n",
    "            await asyncio.sleep(1.0)\n",
    "\n",
    "    async def zeit_checken(self, testtime: str):    \n",
    "        self.heizung_an() if is_within_on_time_ranges(testtime, self.on_times, self.off_times) else self.heizung_aus()\n",
    "\n",
    "    async def on_enter_off(self, event_data):\n",
    "        print(\"Schalte alles aus\")\n",
    "        await self.cancel_state_task()\n",
    "\n",
    "    async def on_enter_error(self, event_data):\n",
    "        print(\"Oh nein: Störung, führe Selbstdiagnose durch! Versuche aus und einzuschalten!\")\n",
    "\n",
    "h = Heizung()"
   ]
  },
  {
   "cell_type": "code",
   "execution_count": null,
   "metadata": {},
   "outputs": [],
   "source": [
    "await h.einschalten()"
   ]
  },
  {
   "cell_type": "code",
   "execution_count": null,
   "metadata": {},
   "outputs": [],
   "source": [
    "await h.heizung_an()"
   ]
  },
  {
   "cell_type": "code",
   "execution_count": null,
   "metadata": {},
   "outputs": [],
   "source": [
    "await h.ausschalten()"
   ]
  },
  {
   "cell_type": "code",
   "execution_count": null,
   "metadata": {},
   "outputs": [],
   "source": [
    "await h.kaputt()"
   ]
  },
  {
   "cell_type": "code",
   "execution_count": null,
   "metadata": {},
   "outputs": [],
   "source": [
    "class PVWatcher:\n",
    "    states =['waiting', 'waiting_for_triggerID', 'waiting_for_PV_Update', 'timeout_error']\n",
    "    tansitions= [\n",
    "        { 'trigger': 'new_triggerID', 'source': 'waiting', 'dest': 'waiting_for_PV_Update' },\n",
    "        { 'trigger': 'PV_update', 'source': 'waiting', 'dest': 'waiting_for_triggerID' },\n",
    "        { 'trigger': 'new_triggerID', 'source': 'waiting_for_triggerID', 'dest': 'waiting' },\n",
    "        { 'trigger': 'PV_update', 'source': 'waiting_for_PV_Update', 'dest': 'waiting' },\n",
    "    ]\n",
    "    def __init__(self, timeout_triggerID, timeout_PVupdate = 0) -> None:\n",
    "        self.timeout_triggerID = timeout_triggerID\n",
    "        self.timeout_PVupdate = timeout_PVupdate\n",
    "        self.newTriggerEvent = asyncio.Event()\n",
    "        self.newPVUpdade = asyncio.Event()\n",
    "        self.sm=AsyncMachine(model = self, states=self.states, initial='waiting', transitions=self.transitions, send_event=True)\n",
    "\n",
    "    async def wait_for_event(self,  event : asyncio.Event, name: str, time_out: int):\n",
    "        print(f\"warte auf {name} \")\n",
    "        try:\n",
    "            event = await asyncio.wait_for(event.wait(), time_out)\n",
    "        except asyncio.TimeoutError:\n",
    "            pass\n",
    "\n",
    "    async def on_enter_waiting(self, eventdata):\n",
    "        t_wait_for_PVUpdata = asyncio.create_task(self.wait_for_event(self.newPVUpdade, 'eventPVUpdate'))\n",
    "        t_wait_for_newTriggerEvent = asyncio.create_task(self.wait_for_event(self.newTriggerEvent, 'eventTriggerID'))\n",
    "        try:\n",
    "            done, pending = asyncio.wait([t_wait_for_newTriggerEvent, t_wait_for_PVUpdata], timeout=self.timeout_triggerID)\n",
    "            # for d in done change state\n",
    "        except asyncio.TimeoutError:\n",
    "            pass # timeout_error\n",
    "            \n",
    "\n",
    "\n"
   ]
  }
 ],
 "metadata": {
  "kernelspec": {
   "display_name": "Python 3",
   "language": "python",
   "name": "python3"
  },
  "language_info": {
   "codemirror_mode": {
    "name": "ipython",
    "version": 3
   },
   "file_extension": ".py",
   "mimetype": "text/x-python",
   "name": "python",
   "nbconvert_exporter": "python",
   "pygments_lexer": "ipython3",
   "version": "3.12.4"
  }
 },
 "nbformat": 4,
 "nbformat_minor": 4
}
