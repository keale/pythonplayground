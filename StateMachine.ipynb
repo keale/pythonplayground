{
 "cells": [
  {
   "cell_type": "markdown",
   "metadata": {},
   "source": [
    "# Python State Machine\n",
    "## Eine selbstgeschriebene SM"
   ]
  },
  {
   "cell_type": "code",
   "execution_count": 13,
   "metadata": {},
   "outputs": [
    {
     "name": "stdout",
     "output_type": "stream",
     "text": [
      "wait\n",
      "wait_for_value\n",
      "write_to_db\n",
      "wait\n"
     ]
    }
   ],
   "source": [
    "class StateMachine:\n",
    "    def __init__(self):\n",
    "        self.state = None  # Der aktuelle Zustand des Automaten\n",
    "        self.transitions = {}  # Eine Tabelle der Übergänge zwischen Zuständen\n",
    "\n",
    "    def add_state(self, state_name, is_initial=False):\n",
    "        \"\"\"Fügt einen neuen Zustand hinzu. Falls is_initial True ist, wird dieser Zustand als Anfangszustand festgelegt.\"\"\"\n",
    "        self.transitions[state_name] = {}\n",
    "        if is_initial:\n",
    "            self.state = state_name\n",
    "\n",
    "    def add_transition(self, from_state, to_state, event):\n",
    "        \"\"\"Definiert einen Übergang von einem Zustand zu einem anderen bei einem bestimmten Ereignis.\"\"\"\n",
    "        if from_state in self.transitions:\n",
    "            self.transitions[from_state][event] = to_state\n",
    "        else:\n",
    "            raise ValueError(f\"Zustand '{from_state}' nicht definiert\")\n",
    "\n",
    "    def on_event(self, event):\n",
    "        \"\"\"Reagiert auf ein Ereignis und verändert den Zustand des Automaten entsprechend.\"\"\"\n",
    "        if self.state in self.transitions and event in self.transitions[self.state]:\n",
    "            self.state = self.transitions[self.state][event]\n",
    "        else:\n",
    "            raise ValueError(f\"Kein Übergang definiert für Zustand '{self.state}' bei Ereignis '{event}'\")\n",
    "\n",
    "    def get_state(self):\n",
    "        \"\"\"Gibt den aktuellen Zustand des Automaten zurück.\"\"\"\n",
    "        return self.state\n",
    "\n",
    "# Beispiel für die Nutzung des Zustandsautomaten\n",
    "fsm = StateMachine()\n",
    "fsm.add_state(\"wait\", is_initial=True)\n",
    "fsm.add_state(\"wait_for_value\")\n",
    "fsm.add_state(\"wait_for_triggerId\")\n",
    "fsm.add_state(\"write_to_db\")\n",
    "\n",
    "fsm.add_transition(\"wait\", \"wait_for_value\", \"new_triggerId_event\")\n",
    "fsm.add_transition(\"wait\", \"wait_for_triggerId\", \"new_value_event\")\n",
    "fsm.add_transition(\"wait_for_triggerId\", \"write_to_db\" , \"new_triggerId_event\")\n",
    "fsm.add_transition(\"wait_for_value\", \"write_to_db\" , \"new_value_event\")\n",
    "fsm.add_transition(\"write_to_db\" ,\"wait\", \"db_ok\")\n",
    "\n",
    "\n",
    "\n",
    "print(fsm.get_state())  # Ausgabe: initial\n",
    "fsm.on_event(\"new_triggerId_event\")\n",
    "print(fsm.get_state())  # Ausgabe: state1\n",
    "fsm.on_event(\"new_value_event\")\n",
    "print(fsm.get_state())  # Ausgabe: state2\n",
    "fsm.on_event(\"db_ok\")\n",
    "print(fsm.get_state())  # Ausgabe: state1"
   ]
  },
  {
   "cell_type": "markdown",
   "metadata": {},
   "source": [
    "# Eine StateMachine (SM) mit Transitions Library\n",
    "https://github.com/pytransitions/transitions?tab=readme-ov-file#table-of-contents"
   ]
  },
  {
   "cell_type": "code",
   "execution_count": 1,
   "metadata": {},
   "outputs": [
    {
     "ename": "SyntaxError",
     "evalue": "invalid syntax (739638691.py, line 1)",
     "output_type": "error",
     "traceback": [
      "\u001b[1;36m  Cell \u001b[1;32mIn[1], line 1\u001b[1;36m\u001b[0m\n\u001b[1;33m    import transitions import Machine\u001b[0m\n\u001b[1;37m                       ^\u001b[0m\n\u001b[1;31mSyntaxError\u001b[0m\u001b[1;31m:\u001b[0m invalid syntax\n"
     ]
    }
   ],
   "source": [
    "from transitions import Machine\n",
    "\n",
    "class Watch_PV_SM:\n",
    "    '''\n",
    "    Watch_PV_SM Klasse\n",
    "    ==================\n",
    "\n",
    "    Das ist der Observer für Laser ProzessVariablen und TriggerID.\n",
    "    Die TriggerID wird von Raspberry PI erzeugt, nachdem es Trigger Signale am GPIO registriert. Dadurch entsteht \n",
    "    dem Triggersignal und Publizieren der TriggerId ein Delay.\n",
    "    Weil es möglich ist, dass schnelle Geräte ihre Werte kurz vor der TriggerID publizieren und langsame Geräte \n",
    "    dagegen danach, wird Watch_PV_SM als StateMachine realisiert:\n",
    "\n",
    "    States\n",
    "    -------\n",
    "    - Grundzustand: watch_PV\n",
    "    - waiting_for_PV_update\n",
    "    - waiting_for_trigger\n",
    "    - write_to_db\n",
    "    - timeout\n",
    "    - error\n",
    "\n",
    "    Szenarien\n",
    "    ----------\n",
    "\n",
    "    1. Szenario 1\n",
    "        - Wenn neue TriggerID registriert wird, erfolgt ein Wechsel in Zustand: waiting_for_PV_update\n",
    "        - waiting_for_PV_update wartet auf Änderung der PV. Passiert diese Änderung werden die Daten in DB geschrieben\n",
    "        - write_to_db und Übergang in Grundzustand\n",
    "\n",
    "    2. Szenario 2    \n",
    "        - Wenn zuerst ein PV Update erfolgt, wechselt der Automat in Zustand: waiting_for_trigger\n",
    "        - u.s.w  \n",
    "    '''\n",
    "\n",
    "\n",
    "    states=['watch_PV', 'waiting_for_trigger','waiting_for_PV_update', 'write_to_db', 'timeout', 'error']\n",
    "\n",
    "    def __init__(self) -> None:\n",
    "        self.SM = Machine(model=Watch_PV_SM, states=Watch_PV_SM.states)"
   ]
  },
  {
   "cell_type": "code",
   "execution_count": 3,
   "metadata": {},
   "outputs": [],
   "source": [
    "from transitions.extensions.asyncio import AsyncMachine\n",
    "import asyncio\n",
    "import nest_asyncio\n",
    "nest_asyncio.apply()"
   ]
  },
  {
   "cell_type": "code",
   "execution_count": 49,
   "metadata": {},
   "outputs": [
    {
     "name": "stdout",
     "output_type": "stream",
     "text": [
      "State Machine started\n"
     ]
    },
    {
     "name": "stdout",
     "output_type": "stream",
     "text": [
      "Ich tu nun was!\n",
      "Chill Kommando empfangen\n"
     ]
    }
   ],
   "source": [
    "import logging\n",
    "\n",
    "\n",
    "class SimpleMachine:\n",
    "\n",
    "    states = ['dummy', 'start', 'waiting']\n",
    "\n",
    "    def __init__(self, stop_event):\n",
    "        self.machine = AsyncMachine(model=self, states=SimpleMachine.states, initial='dummy')\n",
    "        self.machine.add_transition('run', 'dummy', 'start')\n",
    "        self.machine.add_transition('timeoutTransition', '*', 'waiting')\n",
    "        self.machine.add_transition('stop_waiting', 'waiting', 'start')\n",
    "        self.machine.add_transition('chill', 'start', 'dummy')\n",
    "        self.stop_event = stop_event\n",
    "        \n",
    "        # print(\"work work\")\n",
    "        # await asyncio.sleep(10)\n",
    "\n",
    "    async def on_enter_start(self):\n",
    "        try:\n",
    "            print(\"Ich tu nun was!\")\n",
    "            await asyncio.wait_for(self.stop_event.wait(), 10)\n",
    "            print(\"Chill Kommando empfangen\")\n",
    "            await self.chill()\n",
    "        except asyncio.TimeoutError:\n",
    "            print(\"Timeout!\")\n",
    "            await self.timeoutTransition()\n",
    "\n",
    "    async def on_enter_waiting(self):\n",
    "        print(\"Enter wait state\")\n",
    "\n",
    "    async def on_enter_dummy():\n",
    "        print('Dummy chill state')\n",
    "        \n",
    "test_machine = None\n",
    "test_SM = None\n",
    "stopEvent = asyncio.Event()\n",
    "\n",
    "async def main():\n",
    "    global test_machine\n",
    "    test_machine = SimpleMachine(stopEvent)\n",
    "    print(\"State Machine started\")\n",
    "    asyncio.create_task(test_machine.run())\n",
    "\n",
    "asyncio.run(main())"
   ]
  },
  {
   "cell_type": "code",
   "execution_count": 50,
   "metadata": {},
   "outputs": [
    {
     "data": {
      "text/plain": [
       "'start'"
      ]
     },
     "execution_count": 50,
     "metadata": {},
     "output_type": "execute_result"
    }
   ],
   "source": [
    "stopEvent.set()\n",
    "test_machine.state"
   ]
  },
  {
   "cell_type": "code",
   "execution_count": 29,
   "metadata": {},
   "outputs": [
    {
     "data": {
      "text/plain": [
       "'start'"
      ]
     },
     "execution_count": 29,
     "metadata": {},
     "output_type": "execute_result"
    }
   ],
   "source": [
    "test_machine.state"
   ]
  },
  {
   "cell_type": "code",
   "execution_count": null,
   "metadata": {},
   "outputs": [],
   "source": []
  }
 ],
 "metadata": {
  "kernelspec": {
   "display_name": "Python 3",
   "language": "python",
   "name": "python3"
  },
  "language_info": {
   "codemirror_mode": {
    "name": "ipython",
    "version": 3
   },
   "file_extension": ".py",
   "mimetype": "text/x-python",
   "name": "python",
   "nbconvert_exporter": "python",
   "pygments_lexer": "ipython3",
   "version": "3.12.4"
  }
 },
 "nbformat": 4,
 "nbformat_minor": 4
}
