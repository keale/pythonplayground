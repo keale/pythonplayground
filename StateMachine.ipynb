{
 "cells": [
  {
   "cell_type": "code",
   "execution_count": 13,
   "metadata": {},
   "outputs": [
    {
     "name": "stdout",
     "output_type": "stream",
     "text": [
      "wait\n",
      "wait_for_value\n",
      "write_to_db\n",
      "wait\n"
     ]
    }
   ],
   "source": [
    "class StateMachine:\n",
    "    def __init__(self):\n",
    "        self.state = None  # Der aktuelle Zustand des Automaten\n",
    "        self.transitions = {}  # Eine Tabelle der Übergänge zwischen Zuständen\n",
    "\n",
    "    def add_state(self, state_name, is_initial=False):\n",
    "        \"\"\"Fügt einen neuen Zustand hinzu. Falls is_initial True ist, wird dieser Zustand als Anfangszustand festgelegt.\"\"\"\n",
    "        self.transitions[state_name] = {}\n",
    "        if is_initial:\n",
    "            self.state = state_name\n",
    "\n",
    "    def add_transition(self, from_state, to_state, event):\n",
    "        \"\"\"Definiert einen Übergang von einem Zustand zu einem anderen bei einem bestimmten Ereignis.\"\"\"\n",
    "        if from_state in self.transitions:\n",
    "            self.transitions[from_state][event] = to_state\n",
    "        else:\n",
    "            raise ValueError(f\"Zustand '{from_state}' nicht definiert\")\n",
    "\n",
    "    def on_event(self, event):\n",
    "        \"\"\"Reagiert auf ein Ereignis und verändert den Zustand des Automaten entsprechend.\"\"\"\n",
    "        if self.state in self.transitions and event in self.transitions[self.state]:\n",
    "            self.state = self.transitions[self.state][event]\n",
    "        else:\n",
    "            raise ValueError(f\"Kein Übergang definiert für Zustand '{self.state}' bei Ereignis '{event}'\")\n",
    "\n",
    "    def get_state(self):\n",
    "        \"\"\"Gibt den aktuellen Zustand des Automaten zurück.\"\"\"\n",
    "        return self.state\n",
    "\n",
    "# Beispiel für die Nutzung des Zustandsautomaten\n",
    "fsm = StateMachine()\n",
    "fsm.add_state(\"wait\", is_initial=True)\n",
    "fsm.add_state(\"wait_for_value\")\n",
    "fsm.add_state(\"wait_for_triggerId\")\n",
    "fsm.add_state(\"write_to_db\")\n",
    "\n",
    "fsm.add_transition(\"wait\", \"wait_for_value\", \"new_triggerId_event\")\n",
    "fsm.add_transition(\"wait\", \"wait_for_triggerId\", \"new_value_event\")\n",
    "fsm.add_transition(\"wait_for_triggerId\", \"write_to_db\" , \"new_triggerId_event\")\n",
    "fsm.add_transition(\"wait_for_value\", \"write_to_db\" , \"new_value_event\")\n",
    "fsm.add_transition(\"write_to_db\" ,\"wait\", \"db_ok\")\n",
    "\n",
    "\n",
    "\n",
    "print(fsm.get_state())  # Ausgabe: initial\n",
    "fsm.on_event(\"new_triggerId_event\")\n",
    "print(fsm.get_state())  # Ausgabe: state1\n",
    "fsm.on_event(\"new_value_event\")\n",
    "print(fsm.get_state())  # Ausgabe: state2\n",
    "fsm.on_event(\"db_ok\")\n",
    "print(fsm.get_state())  # Ausgabe: state1"
   ]
  },
  {
   "cell_type": "code",
   "execution_count": 18,
   "metadata": {},
   "outputs": [
    {
     "name": "stdout",
     "output_type": "stream",
     "text": [
      "wait\n",
      "wait_for_triggerId\n",
      "write_to_db\n",
      "wait\n"
     ]
    }
   ],
   "source": [
    "print(fsm.get_state())\n",
    "fsm.on_event(\"new_value_event\")\n",
    "print(fsm.get_state())  # Ausgabe: state1\n",
    "fsm.on_event(\"new_triggerId_event\")\n",
    "print(fsm.get_state())  # Ausgabe: state2\n",
    "fsm.on_event(\"db_ok\")\n",
    "print(fsm.get_state())  # Ausgabe: state1"
   ]
  },
  {
   "cell_type": "code",
   "execution_count": null,
   "metadata": {},
   "outputs": [],
   "source": [
    "class ValueStateMachine:\n",
    "\n",
    "    states=['waiting', 'waiting_for_trigger','waiting_for_value','write_into_db']\n",
    "\n",
    "    def __init__(self) -> None:\n",
    "        self.stateM = Machine(model=ValueStateMachine, states=ValueStateMachine.states)"
   ]
  },
  {
   "cell_type": "code",
   "execution_count": null,
   "metadata": {},
   "outputs": [],
   "source": []
  }
 ],
 "metadata": {
  "kernelspec": {
   "display_name": "Python 3",
   "language": "python",
   "name": "python3"
  },
  "language_info": {
   "codemirror_mode": {
    "name": "ipython",
    "version": 3
   },
   "file_extension": ".py",
   "mimetype": "text/x-python",
   "name": "python",
   "nbconvert_exporter": "python",
   "pygments_lexer": "ipython3",
   "version": "3.12.1"
  }
 },
 "nbformat": 4,
 "nbformat_minor": 4
}
