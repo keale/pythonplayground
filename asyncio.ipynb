{
 "cells": [
  {
   "cell_type": "code",
   "execution_count": null,
   "metadata": {},
   "outputs": [],
   "source": [
    "# Ich benutze hier den Kernel aus dem mamba tango enviroment.\n",
    "import asyncio, time, nest_asyncio\n",
    "nest_asyncio.apply()"
   ]
  },
  {
   "cell_type": "markdown",
   "metadata": {},
   "source": [
    "# asyncio\n",
    "-  Python-Modul für das asynchrone Programmierung\n",
    "-  **kooperative** Nebenläufigkeit, keine echten parallele Aufgaben\n",
    "-  Anwendungsbeispiele: gleichzeitige Abfragen von Datenbanken, Webservices, Geräten\n",
    "-  Verwaltet die Aufgaben in einer Event Schleife in **einem Thread**\n",
    "-  Zum starten eines asynchroner Coroutine werden **Tasks** verwendet \n",
    "- `async def` definiert eine **Coroutine** \n",
    "- `await` warten auf das Beenden einer Coroutine\n",
    "- Um das Programm HauptThread nicht zu blockieren, werden Tasks benutzt\n"
   ]
  },
  {
   "cell_type": "markdown",
   "metadata": {},
   "source": [
    "### Beispiel für synchrone Ausführung:"
   ]
  },
  {
   "cell_type": "code",
   "execution_count": 191,
   "metadata": {},
   "outputs": [
    {
     "name": "stdout",
     "output_type": "stream",
     "text": [
      "Simuliere zeitintensive Abfrage für Task Task 1\n",
      "Task Task 1 abgeschlossen\n",
      "Simuliere zeitintensive Abfrage für Task Task 2\n",
      "Task Task 2 abgeschlossen\n",
      "Simuliere zeitintensive Abfrage für Task Task 3\n",
      "Task Task 3 abgeschlossen\n",
      "Simuliere zeitintensive Abfrage für Task Task 4\n",
      "Task Task 4 abgeschlossen\n",
      "Simuliere zeitintensive Abfrage für Task Task 5\n",
      "Task Task 5 abgeschlossen\n",
      "Gesamtzeit: 5.01 Sekunden\n"
     ]
    }
   ],
   "source": [
    "import time\n",
    "\n",
    "def sync_task(name, duration):\n",
    "    print(f\"Simuliere zeitintensive Abfrage für Task {name}\")\n",
    "    time.sleep(duration)\n",
    "    print(f\"Task {name} abgeschlossen\")\n",
    "\n",
    "def main_sync():\n",
    "    for i in range(5):\n",
    "        sync_task(f\"Task {i+1}\", 1)\n",
    "\n",
    "if __name__ == \"__main__\":\n",
    "    start_time = time.time()\n",
    "    main_sync()\n",
    "    print(f\"Gesamtzeit: {time.time() - start_time:.2f} Sekunden\")\n"
   ]
  },
  {
   "cell_type": "markdown",
   "metadata": {},
   "source": [
    "### Beispiel für kooperative asynchrone Auführung"
   ]
  },
  {
   "cell_type": "code",
   "execution_count": 192,
   "metadata": {},
   "outputs": [
    {
     "name": "stdout",
     "output_type": "stream",
     "text": [
      "Erzeuge 5 asynchrone zeitintensive Tasks:\n",
      "Simuliere zeitintensive Abfrage für Task Task 1\n",
      "Simuliere zeitintensive Abfrage für Task Task 2\n",
      "Simuliere zeitintensive Abfrage für Task Task 3\n",
      "Simuliere zeitintensive Abfrage für Task Task 4\n",
      "Simuliere zeitintensive Abfrage für Task Task 5\n",
      "Task Task 1 abgeschlossen\n",
      "Task Task 3 abgeschlossen\n",
      "Task Task 5 abgeschlossen\n",
      "Task Task 2 abgeschlossen\n",
      "Task Task 4 abgeschlossen\n",
      "Gesamtzeit: 1.00 Sekunden\n"
     ]
    }
   ],
   "source": [
    "import asyncio\n",
    "\n",
    "async def async_task(name, duration):\n",
    "    print(f\"Simuliere zeitintensive Abfrage für Task {name}\")\n",
    "    await asyncio.sleep(duration)\n",
    "    print(f\"Task {name} abgeschlossen\")\n",
    "\n",
    "async def main_async():\n",
    "    print(\"Erzeuge 5 asynchrone zeitintensive Tasks:\")\n",
    "    tasks = [asyncio.create_task(async_task(f\"Task {i+1}\", 1)) for i in range(5)] \n",
    "    await asyncio.gather(*tasks) # Warte auf alle Tasks\n",
    "\n",
    "if __name__ == \"__main__\":\n",
    "    start_time = time.time()\n",
    "    asyncio.run(main_async())\n",
    "    print(f\"Gesamtzeit: {time.time() - start_time:.2f} Sekunden\")\n"
   ]
  },
  {
   "cell_type": "markdown",
   "metadata": {},
   "source": [
    "### Beispiel: Warten auf ein Event"
   ]
  },
  {
   "cell_type": "code",
   "execution_count": 194,
   "metadata": {},
   "outputs": [
    {
     "name": "stdout",
     "output_type": "stream",
     "text": [
      "Warte auf ein Event. Beachte, dass Du weiterarbeiten kannst!\n",
      "Event was set!\n"
     ]
    }
   ],
   "source": [
    "async def wait_for_event(event):\n",
    "    print(\"Warte auf ein Event. Beachte, dass Du weiterarbeiten kannst!\")\n",
    "    try:\n",
    "        await asyncio.wait_for(event.wait(), timeout=5.0)\n",
    "        print(\"Event was set!\")\n",
    "    except asyncio.TimeoutError:\n",
    "        print(\"Timeout reached, event was not set.\")\n",
    "\n",
    "event = asyncio.Event()\n",
    "async def main():\n",
    "    # Start the coroutine to wait for the event\n",
    "    asyncio.create_task(wait_for_event(event))   # Das ist der Grund, warum der Aufruf nichtblockierend ist!\n",
    "\n",
    "# Run the main function\n",
    "asyncio.run(main())\n"
   ]
  },
  {
   "cell_type": "code",
   "execution_count": 195,
   "metadata": {},
   "outputs": [],
   "source": [
    "event.set()"
   ]
  },
  {
   "cell_type": "markdown",
   "metadata": {},
   "source": [
    "\n",
    "## Vorteile \n",
    "- Geradeliniger Code\n",
    "- einfacher zu Handhaben als Threads, weil keine echte Parallelität\n",
    "- Schlanker als Threads, 3 kB vs 50 kB\n"
   ]
  },
  {
   "cell_type": "markdown",
   "metadata": {},
   "source": [
    "\n",
    "## Links\n",
    "https://cheat.readthedocs.io/en/latest/python/asyncio.html\n",
    "\n",
    "https://docs.python.org/3/library/asyncio-task.html\n",
    "\n",
    "https://www.youtube.com/watch?v=HzpdMDYEstA"
   ]
  },
  {
   "cell_type": "markdown",
   "metadata": {},
   "source": [
    "\n",
    "## Futures\n",
    "F ist ein Objekt, die zukünftige Werte oder Ausnahmen repräsentiert. F Objekts werden zur Verwaltung asynchroner Operationen genutzt. Sehe auch Vergeich mit Tasks.\n",
    "F können Callback Funktionen aufrufen.\n"
   ]
  },
  {
   "cell_type": "code",
   "execution_count": null,
   "metadata": {},
   "outputs": [],
   "source": [
    "async def perform_async_operation(future):\n",
    "    # Simuliere eine asynchrone Operation, z.B. eine Berechnung oder Abfrage\n",
    "    await asyncio.sleep(2)\n",
    "    # Setze das Ergebnis des Futures nach Abschluss der Operation\n",
    "    future.set_result(\"Operation completed successfully!\")\n",
    "\n",
    "def future_cb1(future):\n",
    "    print(\"Ich bin die 1. CallBack Funktion!\")\n",
    "\n",
    "def future_cb2(future):\n",
    "    print(\"Ich bin die 2. CallBack Funktion!\")\n",
    "\n",
    "future = asyncio.Future()\n",
    "future.add_done_callback(future_cb1) # DONE CALLBACK\n",
    "future.add_done_callback(future_cb2)\n",
    "\n",
    "await perform_async_operation(future)\n",
    "result = await future\n",
    "print(result)"
   ]
  },
  {
   "cell_type": "code",
   "execution_count": null,
   "metadata": {},
   "outputs": [],
   "source": [
    "async def set_future_value(future, value):\n",
    "    # Simuliere eine asynchrone Operation\n",
    "    await asyncio.sleep(1)\n",
    "    future.set_result(value) #!!! Dieser Wert kann später abgefragt werden!!!\n",
    "\n",
    "async def main():\n",
    "    # Erstellen eines Future-Objekts\n",
    "    future = asyncio.Future()\n",
    "    \n",
    "    # Starte eine Aufgabe, die den Future-Wert setzt\n",
    "    asyncio.create_task(set_future_value(future, 'Hello, Future!'))\n",
    "\n",
    "    # Warten auf das Setzen des Future-Werts\n",
    "    result = await future\n",
    "    print(result)\n",
    "\n",
    "# Startet das asyncio-Event-Loop und führt die main()-Funktion aus\n",
    "asyncio.run(main())\n"
   ]
  },
  {
   "cell_type": "markdown",
   "metadata": {},
   "source": [
    "## Task (in asyncio)\n",
    "Ein Task ist eine Einheit der asynchronen Ausführung, die auf einer einzigen Thread (dem Hauptthread) läuft. \n",
    "- basiert auf Coroutines\n",
    "- nutzt die asyncio-Eventschleife, um nebenläufige Operationen zu managen.\n",
    "- ermöglichen kooperative Nebenläufigkeit. Sie laufen nicht parallel, sondern geben die Kontrolle freiwillig zurück, wenn sie auf I/O-Operationen warten, indem sie await verwenden. Die Eventschleife entscheidet dann, welche andere Aufgabe fortgesetzt wird.\n",
    "- Leichtgewicht: Tasks sind leichter als Threads, weil sie keinen eigenen Speicherraum benötigen und vom Python-Interpreter gemanagt werden.\n",
    "\n",
    "- Verwendung: Tasks werden für I/O-gebundene Programme verwendet, wie das gleichzeitige Abwarten auf mehrere Netzwerkverbindungen, Dateioperationen oder andere asynchrone Ereignisse.\n",
    "Ts planen und verwalten die Ausführung von CFs. \n",
    "- `mytask = asyncio.create_task(coro_f(params))`  \n",
    " `create_task` lässt  einer Coroutine kooperativ parallel ablaufen. TaskObjekt zu steuerung des Tasks.\n",
    "- Ts werden **unmittelbar** nach erstellung ausgeführt!"
   ]
  },
  {
   "cell_type": "code",
   "execution_count": 190,
   "metadata": {},
   "outputs": [
    {
     "name": "stdout",
     "output_type": "stream",
     "text": [
      "1. Task erstellen und ausführen\n",
      "3. Doing something while waiting...\n",
      "*** 2. Hello, I am the Task! ***\n",
      " 4. Doing something else while waiting...\n",
      "*** 5. I have finished! ***\n",
      "6. Doing something after Task has finished.\n"
     ]
    }
   ],
   "source": [
    "async def say_hello():\n",
    "    print(\"*** 2. Hello, I am the Task! ***\")\n",
    "    await asyncio.sleep(2)\n",
    "    print(\"*** 5. I have finished! ***\")\n",
    "\n",
    "async def main():\n",
    "\n",
    "    print(\"1. Task erstellen und ausführen\") \n",
    "    task = asyncio.create_task(say_hello())\n",
    "    # await asyncio.sleep(0.1)\n",
    "    print(\"3. Doing something while waiting...\") # ACHTUNG, ohne await davor, wird diese Zeile VOR Task ausgegeben. \n",
    "    await asyncio.sleep(0.9)\n",
    "    print(\" 4. Doing something else while waiting...\")\n",
    "    \n",
    "    # Warten auf die Task\n",
    "    await task\n",
    "    print(\"6. Doing something after Task has finished.\")\n",
    "\n",
    "\n",
    "# Startet den asyncio-Event-Loop und führt main() aus\n",
    "asyncio.run(main())"
   ]
  },
  {
   "cell_type": "markdown",
   "metadata": {},
   "source": [
    "\n",
    "### Task vs. Futures:\n",
    "Task ist eine Kindklasse von Future, erbt also alles.\n",
    "- Futures sind allgemeine Platzhalter für zukünftige Werte\n",
    "- Task sind speziell für CF Ausführnng gedacht\n",
    "- Futures müssen explizit gestartet werden mit `set_result()` oder `set_exception()`\n",
    "- Task werden verwendet, eine CF in Hintegrund auszuführen\n",
    "- Future wird oft verwendet, um eine Schnittstelle zu einem System zu definieren, das einen zukünftigen Wert liefert, den man manuell kontrollieren muss, wann und wie er bereitgestellt wird\n"
   ]
  },
  {
   "cell_type": "markdown",
   "metadata": {},
   "source": [
    "\n",
    "### Taksgroup\n",
    "`asyncio.TaskGroup` ist eine moderne (ab Python 3.11) Alternative zu `create_task()` und `asyncio.gather()`"
   ]
  },
  {
   "cell_type": "code",
   "execution_count": null,
   "metadata": {},
   "outputs": [],
   "source": [
    "async def main():\n",
    "    async with asyncio.TaskGroup() as tg:\n",
    "        task1 = tg.create_task(\n",
    "            say_after(2, 'hello'))\n",
    "\n",
    "        task2 = tg.create_task(\n",
    "            say_after(2.1, 'world'))\n",
    "\n",
    "        print(f\"started at {time.strftime('%X')}\")\n",
    "\n",
    "    # The await is implicit when the context manager exits.\n",
    "\n",
    "    print(f\"finished at {time.strftime('%X')}\")\n",
    "\n",
    "asyncio.run(main())"
   ]
  },
  {
   "cell_type": "markdown",
   "metadata": {},
   "source": [
    "## Timeouts"
   ]
  },
  {
   "cell_type": "code",
   "execution_count": null,
   "metadata": {},
   "outputs": [],
   "source": [
    "async def factorial(name, number):\n",
    "    f = 1\n",
    "    for i in range(2, number + 1):\n",
    "        print(f\"Task {name}: Compute factorial({number}), currently i={i}...\")\n",
    "        await asyncio.sleep(1)\n",
    "        f *= i\n",
    "    print(f\"Task {name}: factorial({number}) = {f}\")\n",
    "    return f\n",
    "\n",
    "async def main():\n",
    "    # Schedule three calls *concurrently*:\n",
    "    L = await asyncio.gather(\n",
    "        factorial(\"A\", 2),\n",
    "        factorial(\"B\", 3),\n",
    "        factorial(\"C\", 4),\n",
    "    )\n",
    "    print(L)\n",
    "\n",
    "asyncio.run(main())"
   ]
  },
  {
   "cell_type": "code",
   "execution_count": null,
   "metadata": {},
   "outputs": [],
   "source": [
    "async def main():\n",
    "    try:\n",
    "        async with asyncio.timeout(3):\n",
    "            # Schedule three calls *concurrently*:\n",
    "            L = await asyncio.gather(\n",
    "                factorial(\"A\", 2),\n",
    "                factorial(\"B\", 3),\n",
    "                factorial(\"C\", 4),\n",
    "            )\n",
    "        print(L)\n",
    "    except TimeoutError:\n",
    "        print(\"Einige Faktorials konnten nicht berechnet werden!\")\n",
    "    \n",
    "asyncio.run(main())"
   ]
  },
  {
   "cell_type": "markdown",
   "metadata": {},
   "source": [
    "## Warte auf mehrere Events\n",
    "Weil `wait_for` nur auf ein Event warten kann, muss man `asyncio.wait` verwenden. `wait` arbeitet mit Tasks, deswegen muss man jedes `wait_for` in einem Task starten.\n",
    "\n",
    "`wait` wirt keine Exception. Wenn ein Task nach Timeout nicht fertig ist, wird er in `pending` RW zurückgegeben. Die beendeten Tasks sind in `done`.\n",
    "\n",
    "Wenn man als `return_when=asyncio.FIRST_COMPLETED` verwendet, und ein Event Timeout hat, wird der zugehörige Task als **BEENDET** angesehen. \n"
   ]
  },
  {
   "cell_type": "code",
   "execution_count": null,
   "metadata": {},
   "outputs": [],
   "source": [
    "import asyncio, nest_asyncio\n",
    "nest_asyncio.apply()\n",
    "\n",
    "timeout_duration = 10\n",
    "\n",
    "async def await_event(event, name):\n",
    "    print(f\"warte auf {name} \")\n",
    "    try:\n",
    "        event = await asyncio.wait_for(event.wait(), timeout=5)\n",
    "    except asyncio.TimeoutError:\n",
    "      print(f\"{name} timeout\")\n",
    "\n",
    "\n",
    "async def wait_for_2events(event1, event2):\n",
    "    print(\"wait for events\")\n",
    "    t1 = asyncio.create_task(await_event(event1, \"event1\"), name='evt1')\n",
    "    t2 = asyncio.create_task(await_event(event2, \"event2\"), name='evt2')\n",
    "\n",
    "    done, pending = await asyncio.wait([t1, t2], timeout=timeout_duration, return_when=asyncio.FIRST_COMPLETED)\n",
    "    for d in done: \n",
    "        print(f\"{d.get_name()} was set\")\n",
    "    \n",
    "    \n",
    "    for p in pending: \n",
    "        #p.cancel()\n",
    "        print(f\"{p.name.get_name()} is pending\")  \n",
    "    \n",
    "\n",
    "event1 = asyncio.Event()\n",
    "event2 = asyncio.Event()\n",
    "\n",
    "async def main():\n",
    "    asyncio.create_task(wait_for_2events(event1, event2))   # Das ist der Grund, warum der Aufruf nichtblockierend ist!\n",
    "\n",
    "# Run the main function\n",
    "asyncio.run(main())\n"
   ]
  },
  {
   "cell_type": "code",
   "execution_count": null,
   "metadata": {},
   "outputs": [],
   "source": [
    "event2.set()"
   ]
  },
  {
   "cell_type": "code",
   "execution_count": null,
   "metadata": {},
   "outputs": [],
   "source": [
    "event1.set()"
   ]
  },
  {
   "cell_type": "markdown",
   "metadata": {},
   "source": [
    "## Warten auf das Gleiche Event (z.B. new_triggerID) in mehreren Tasks.\n",
    "Hat funktioniert."
   ]
  },
  {
   "cell_type": "code",
   "execution_count": null,
   "metadata": {},
   "outputs": [],
   "source": [
    "import asyncio\n",
    "\n",
    "async def task_waiting_for_event(event, name, timeout):\n",
    "    try:\n",
    "        print(f'Task {name} wartet auf das Event mit einem Timeout von {timeout} Sekunden...')\n",
    "        await asyncio.wait_for(event.wait(), timeout)\n",
    "        print(f'Task {name} wurde fortgesetzt!')\n",
    "    except asyncio.TimeoutError:\n",
    "        print(f'Task {name} hat das Warten wegen Timeout abgebrochen.')\n",
    "\n",
    "event = asyncio.Event()\n",
    "\n",
    "async def main():\n",
    "    # Erstelle mehrere Tasks, die auf dasselbe Event warten, mit einem Timeout\n",
    "    task1 = asyncio.create_task(task_waiting_for_event(event, \"A\", 3))\n",
    "    task2 = asyncio.create_task(task_waiting_for_event(event, \"B\", 5))\n",
    "    task3 = asyncio.create_task(task_waiting_for_event(event, \"C\", 7))\n",
    "\n",
    "asyncio.run(main())"
   ]
  },
  {
   "cell_type": "code",
   "execution_count": null,
   "metadata": {},
   "outputs": [],
   "source": [
    "event.set()"
   ]
  },
  {
   "cell_type": "markdown",
   "metadata": {},
   "source": [
    "### Perfomance Test"
   ]
  },
  {
   "cell_type": "code",
   "execution_count": null,
   "metadata": {},
   "outputs": [],
   "source": [
    "import time \n",
    "async def task_waiting_for_event(event, name, timeout):\n",
    "    try:\n",
    "        event = await asyncio.wait_for(event.wait(), timeout)\n",
    "        return event\n",
    "        #await asyncio.sleep(1)\n",
    "    except asyncio.TimeoutError:\n",
    "        pass\n",
    "\n",
    "event = asyncio.Event()\n",
    "\n",
    "async def main():\n",
    "    tasks = [asyncio.create_task(task_waiting_for_event(event, str(i), 7)) for i in range(1000)]\n",
    "    start = time.time()\n",
    "\n",
    "   # await asyncio.sleep(1)\n",
    "    event.set()\n",
    "    await asyncio.gather(*tasks)\n",
    "    dauer = time.time() - start\n",
    "    print(f\"Ausführungsdauer: {dauer}\")\n",
    "\n",
    "asyncio.run(main())"
   ]
  },
  {
   "cell_type": "code",
   "execution_count": null,
   "metadata": {},
   "outputs": [],
   "source": [
    "event.set()"
   ]
  },
  {
   "cell_type": "markdown",
   "metadata": {},
   "source": [
    "# Beispiel Race Conditions mit Threads\n",
    "Es ist mir noch nicht klar, wann das Problem bei Python auftritt. Man muss die Besonderheit der GIL beachten."
   ]
  },
  {
   "cell_type": "code",
   "execution_count": 232,
   "metadata": {},
   "outputs": [
    {
     "name": "stdout",
     "output_type": "stream",
     "text": [
      "Endwert des Counters: 23\n"
     ]
    }
   ],
   "source": [
    "import threading\n",
    "import time\n",
    "\n",
    "# Gemeinsame Ressource\n",
    "counter = 0\n",
    "\n",
    "# Funktion, die von mehreren Threads ausgeführt wird\n",
    "def increment_counter():\n",
    "    global counter\n",
    "    local_counter = counter\n",
    "    time.sleep(0.001)  # Simuliere eine kleine Verzögerung\n",
    "    local_counter += 1\n",
    "    counter = local_counter\n",
    "\n",
    "# Anzahl der Threads\n",
    "num_threads = 100\n",
    "\n",
    "# Erstelle und starte Threads\n",
    "threads = []\n",
    "for _ in range(num_threads):\n",
    "    thread = threading.Thread(target=increment_counter)\n",
    "    threads.append(thread)\n",
    "    thread.start()\n",
    "\n",
    "# Warte darauf, dass alle Threads beendet sind\n",
    "for thread in threads:\n",
    "    thread.join()\n",
    "\n",
    "# Erwarteter Wert: 100, aber aufgrund von Race Conditions wird er wahrscheinlich niedriger sein\n",
    "print(f\"Endwert des Counters: {counter}\")"
   ]
  },
  {
   "cell_type": "markdown",
   "metadata": {},
   "source": [
    "## GIL Effekt\n",
    "in dieser Variante tritt das Race Conditions erstaunlicher Weise nicht auf!"
   ]
  },
  {
   "cell_type": "code",
   "execution_count": 253,
   "metadata": {},
   "outputs": [
    {
     "name": "stdout",
     "output_type": "stream",
     "text": [
      "Endwert des Counters: 100\n"
     ]
    }
   ],
   "source": [
    "# Gemeinsame Ressource\n",
    "counter = 0\n",
    "\n",
    "# Funktion, die von mehreren Threads ausgeführt wird\n",
    "def increment_counter():\n",
    "    global counter\n",
    "    time.sleep(0.001)  # Simuliere eine kleine Verzögerung\n",
    "    counter += 1\n",
    "    \n",
    "# Anzahl der Threads\n",
    "num_threads = 100\n",
    "\n",
    "# Erstelle und starte Threads\n",
    "threads = []\n",
    "for _ in range(num_threads):\n",
    "    thread = threading.Thread(target=increment_counter)\n",
    "    threads.append(thread)\n",
    "    thread.start()\n",
    "\n",
    "# Warte darauf, dass alle Threads beendet sind\n",
    "for thread in threads:\n",
    "    thread.join()\n",
    "\n",
    "# Erwarteter Wert: 100, aber aufgrund von Race Conditions wird er wahrscheinlich niedriger sein\n",
    "print(f\"Endwert des Counters: {counter}\")\n"
   ]
  },
  {
   "cell_type": "code",
   "execution_count": 242,
   "metadata": {},
   "outputs": [
    {
     "name": "stdout",
     "output_type": "stream",
     "text": [
      "Endwert des Counters: 1\n"
     ]
    }
   ],
   "source": [
    "import asyncio\n",
    "\n",
    "# Gemeinsame Ressource\n",
    "counter = 0\n",
    "\n",
    "# Coroutine, die von mehreren async Tasks ausgeführt wird\n",
    "async def increment_counter():\n",
    "    global counter\n",
    "    local_counter = counter\n",
    "    await asyncio.sleep(0.001)  # Simuliere eine kleine Verzögerung\n",
    "    local_counter += 1\n",
    "    counter = local_counter\n",
    "\n",
    "async def main_async():\n",
    "    global counter\n",
    "    counter = 0  # Setze den Counter zurück\n",
    "\n",
    "    # Anzahl der Tasks\n",
    "    num_tasks = 100\n",
    "\n",
    "    # Erstelle und starte Tasks\n",
    "    tasks = [asyncio.create_task(increment_counter()) for _ in range(num_tasks)]\n",
    "\n",
    "    # Warte darauf, dass alle Tasks beendet sind\n",
    "    await asyncio.gather(*tasks)\n",
    "\n",
    "    # Der Wert sollte immer 100 sein\n",
    "    print(f\"Endwert des Counters: {counter}\")\n",
    "\n",
    "# Starte das asyncio-Eventloop\n",
    "asyncio.run(main_async())\n"
   ]
  }
 ],
 "metadata": {
  "kernelspec": {
   "display_name": "Python 3",
   "language": "python",
   "name": "python3"
  },
  "language_info": {
   "codemirror_mode": {
    "name": "ipython",
    "version": 3
   },
   "file_extension": ".py",
   "mimetype": "text/x-python",
   "name": "python",
   "nbconvert_exporter": "python",
   "pygments_lexer": "ipython3",
   "version": "3.12.1"
  }
 },
 "nbformat": 4,
 "nbformat_minor": 2
}
