{
 "cells": [
  {
   "cell_type": "code",
   "execution_count": 6,
   "metadata": {},
   "outputs": [],
   "source": [
    "# Ich benutze hier den Kernel aus dem mamba tango enviroment.\n",
    "\n",
    "import asyncio, time, nest_asyncio\n",
    "nest_asyncio.apply()"
   ]
  },
  {
   "cell_type": "markdown",
   "metadata": {},
   "source": [
    "# Notizen zu asyncio\n",
    "## Links\n",
    "https://cheat.readthedocs.io/en/latest/python/asyncio.html\n",
    "\n",
    "https://docs.python.org/3/library/asyncio-task.html\n",
    "\n",
    "https://www.youtube.com/watch?v=HzpdMDYEstA\n",
    "\n",
    "## Nutzen \n",
    "- Geradeliniger Code\n",
    "- einfacher zu Handhaben als Threads, weil keine echte Parallelität\n",
    "- Schlanker als Threads, 3 kB vs 50 kB  \n",
    "\n",
    "## Eventloop\n",
    "der asyncio-Code kann nur in einer Event Loop laufen. Die Schleife ist der Treiber, der das kooperative Multitasking managt.\n",
    "\n",
    "## Coroutines\n",
    "\n",
    "Python unterscheidet zw. Cor. Funktion und Cor. Objekt\n",
    "- `async def` definiert eine CF. \n",
    "- Nur CF kann `await` benutzen\n",
    "- Aufrufen einer CF liefert ein Objekt: \n",
    "```python\n",
    "async def coro_f():\n",
    "    print(\"Corouteine, schläft 1s\")\n",
    "    asyncio.sleep(1)\n",
    "    print(\"Ausgeschlafen\")\n",
    "\n",
    "cf=coro_f() #keine Ausführung\n",
    "```\n",
    "## Futures\n",
    "F ist ein Objekt, die zukünftige Werte oder Ausnahmen repräsentiert. F Objekts werden zur Verwaltung asynchroner Operationen genutzt. Sehe auch Vergeich mit Tasks.\n",
    "F können Callback Funktionen aufrufen.\n"
   ]
  },
  {
   "cell_type": "code",
   "execution_count": 3,
   "metadata": {},
   "outputs": [
    {
     "name": "stdout",
     "output_type": "stream",
     "text": [
      "Operation completed successfully!\n",
      "Ich bin die 1. CallBack Funktion!\n",
      "Ich bin die 2. CallBack Funktion!\n"
     ]
    }
   ],
   "source": [
    "async def perform_async_operation(future):\n",
    "    # Simuliere eine asynchrone Operation, z.B. eine Berechnung oder Abfrage\n",
    "    await asyncio.sleep(2)\n",
    "    # Setze das Ergebnis des Futures nach Abschluss der Operation\n",
    "    future.set_result(\"Operation completed successfully!\")\n",
    "\n",
    "def future_cb1(future):\n",
    "    print(\"Ich bin die 1. CallBack Funktion!\")\n",
    "\n",
    "def future_cb2(future):\n",
    "    print(\"Ich bin die 2. CallBack Funktion!\")\n",
    "\n",
    "future = asyncio.Future()\n",
    "future.add_done_callback(future_cb1) # DONE CALLBACK\n",
    "future.add_done_callback(future_cb2)\n",
    "\n",
    "await perform_async_operation(future)\n",
    "result = await future\n",
    "print(result)"
   ]
  },
  {
   "cell_type": "code",
   "execution_count": 8,
   "metadata": {},
   "outputs": [
    {
     "name": "stdout",
     "output_type": "stream",
     "text": [
      "Hello, Future!\n"
     ]
    }
   ],
   "source": [
    "async def set_future_value(future, value):\n",
    "    # Simuliere eine asynchrone Operation\n",
    "    await asyncio.sleep(1)\n",
    "    future.set_result(value) #!!! Dieser Wert kann später abgefragt werden!!!\n",
    "\n",
    "async def main():\n",
    "    # Erstellen eines Future-Objekts\n",
    "    future = asyncio.Future()\n",
    "    \n",
    "    # Starte eine Aufgabe, die den Future-Wert setzt\n",
    "    asyncio.create_task(set_future_value(future, 'Hello, Future!'))\n",
    "\n",
    "    # Warten auf das Setzen des Future-Werts\n",
    "    result = await future\n",
    "    print(result)\n",
    "\n",
    "# Startet das asyncio-Event-Loop und führt die main()-Funktion aus\n",
    "asyncio.run(main())\n"
   ]
  },
  {
   "cell_type": "markdown",
   "metadata": {},
   "source": [
    "## Tasks\n",
    "Ts planen und verwalten die Ausführung von CFs. \n",
    "- `mytask = asyncio.create_task(coro_f(params))` `create_task` bekommt eine CF und gibt ein TO zu steuerung des Tasks.\n",
    "- Ts werden **unmittelbar** nach erstellung ausgeführt!"
   ]
  },
  {
   "cell_type": "code",
   "execution_count": 18,
   "metadata": {},
   "outputs": [
    {
     "name": "stdout",
     "output_type": "stream",
     "text": [
      "1. Task erstellen und ausführen\n",
      "3. Doing something while waiting...\n",
      "*** 2. Hello, I am the Task! ***\n",
      " 4. Doing something else while waiting...\n",
      "*** 5. I have finished! ***\n",
      "6. Doing something after Task has finished.\n"
     ]
    }
   ],
   "source": [
    "async def say_hello():\n",
    "    print(\"*** 2. Hello, I am the Task! ***\")\n",
    "    await asyncio.sleep(2)\n",
    "    print(\"*** 5. I have finished! ***\")\n",
    "\n",
    "async def main():\n",
    "\n",
    "    print(\"1. Task erstellen und ausführen\") \n",
    "    task = asyncio.create_task(say_hello())\n",
    "    # await asyncio.sleep(0.1)\n",
    "    print(\"3. Doing something while waiting...\") # ACHTUNG, ohne await davor, wird diese Zeile VOR Task ausgegeben. \n",
    "    await asyncio.sleep(0.9)\n",
    "    print(\" 4. Doing something else while waiting...\")\n",
    "    \n",
    "    # Warten auf die Task\n",
    "    await task\n",
    "    print(\"6. Doing something after Task has finished.\")\n",
    "\n",
    "\n",
    "# Startet den asyncio-Event-Loop und führt main() aus\n",
    "asyncio.run(main())"
   ]
  },
  {
   "cell_type": "code",
   "execution_count": 32,
   "metadata": {},
   "outputs": [
    {
     "name": "stdout",
     "output_type": "stream",
     "text": [
      "started at 11:18:50\n",
      "hello\n",
      "world\n",
      "finished at 11:18:52\n"
     ]
    }
   ],
   "source": [
    "async def say_after(delay, what):\n",
    "    await asyncio.sleep(delay)\n",
    "    print(what)\n",
    "\n",
    "async def main():\n",
    "    print(f\"started at {time.strftime('%X')}\")\n",
    "\n",
    "    task1 = asyncio.create_task(\n",
    "        say_after(1, 'hello'))\n",
    "\n",
    "    task2 = asyncio.create_task(\n",
    "        say_after(2, 'world'))\n",
    "\n",
    "    await task1\n",
    "    await task2\n",
    "    \n",
    "    print(f\"finished at {time.strftime('%X')}\")\n",
    "\n",
    "asyncio.run(main())"
   ]
  },
  {
   "cell_type": "markdown",
   "metadata": {},
   "source": [
    "\n",
    "### Task vs. Futures:\n",
    "Task ist eine Kindklasse von Future, erbt also alles.\n",
    "- Futures sind allgemeine Platzhalter für zukünftige Werte\n",
    "- Task sind speziell für CF Ausführnng gedacht\n",
    "- Futures müssen explizit gestartet werden mit `set_result()` oder `set_exception()`\n",
    "- Task werden verwendet, eine CF in Hintegrund auszuführen\n",
    "- Future wird oft verwendet, um eine Schnittstelle zu einem System zu definieren, das einen zukünftigen Wert liefert, den man manuell kontrollieren muss, wann und wie er bereitgestellt wird\n"
   ]
  },
  {
   "cell_type": "markdown",
   "metadata": {},
   "source": [
    "\n",
    "### Taksgroup\n",
    "`asyncio.TaskGroup` ist eine moderne (ab Python 3.11) Alternative zu `create_task()` und `asyncio.gather()`"
   ]
  },
  {
   "cell_type": "code",
   "execution_count": 33,
   "metadata": {},
   "outputs": [
    {
     "name": "stdout",
     "output_type": "stream",
     "text": [
      "started at 11:25:26\n",
      "hello\n",
      "world\n",
      "finished at 11:25:28\n"
     ]
    }
   ],
   "source": [
    "async def main():\n",
    "    async with asyncio.TaskGroup() as tg:\n",
    "        task1 = tg.create_task(\n",
    "            say_after(1, 'hello'))\n",
    "\n",
    "        task2 = tg.create_task(\n",
    "            say_after(2, 'world'))\n",
    "\n",
    "        print(f\"started at {time.strftime('%X')}\")\n",
    "\n",
    "    # The await is implicit when the context manager exits.\n",
    "\n",
    "    print(f\"finished at {time.strftime('%X')}\")\n",
    "\n",
    "asyncio.run(main())"
   ]
  },
  {
   "cell_type": "code",
   "execution_count": 12,
   "metadata": {},
   "outputs": [
    {
     "name": "stdout",
     "output_type": "stream",
     "text": [
      "Task A: Compute factorial(2), currently i=2...\n",
      "Task B: Compute factorial(3), currently i=2...\n",
      "Task C: Compute factorial(4), currently i=2...\n",
      "Task A: factorial(2) = 2\n",
      "Task B: Compute factorial(3), currently i=3...\n",
      "Task C: Compute factorial(4), currently i=3...\n",
      "Task B: factorial(3) = 6\n",
      "Task C: Compute factorial(4), currently i=4...\n",
      "Task C: factorial(4) = 24\n",
      "[2, 6, 24]\n"
     ]
    }
   ],
   "source": [
    "async def factorial(name, number):\n",
    "    f = 1\n",
    "    for i in range(2, number + 1):\n",
    "        print(f\"Task {name}: Compute factorial({number}), currently i={i}...\")\n",
    "        await asyncio.sleep(1)\n",
    "        f *= i\n",
    "    print(f\"Task {name}: factorial({number}) = {f}\")\n",
    "    return f\n",
    "\n",
    "async def main():\n",
    "    # Schedule three calls *concurrently*:\n",
    "    L = await asyncio.gather(\n",
    "        factorial(\"A\", 2),\n",
    "        factorial(\"B\", 3),\n",
    "        factorial(\"C\", 4),\n",
    "    )\n",
    "    print(L)\n",
    "\n",
    "asyncio.run(main())"
   ]
  },
  {
   "cell_type": "markdown",
   "metadata": {},
   "source": [
    "## Timeouts"
   ]
  },
  {
   "cell_type": "code",
   "execution_count": 16,
   "metadata": {},
   "outputs": [
    {
     "name": "stdout",
     "output_type": "stream",
     "text": [
      "Task A: Compute factorial(2), currently i=2...\n",
      "Task B: Compute factorial(3), currently i=2...\n",
      "Task C: Compute factorial(4), currently i=2...\n",
      "Task A: factorial(2) = 2\n",
      "Task B: Compute factorial(3), currently i=3...\n",
      "Task C: Compute factorial(4), currently i=3...\n",
      "Task B: factorial(3) = 6\n",
      "Task C: Compute factorial(4), currently i=4...\n",
      "Task C: factorial(4) = 24\n",
      "[2, 6, 24]\n"
     ]
    }
   ],
   "source": [
    "async def main():\n",
    "    try:\n",
    "        async with asyncio.timeout(20):\n",
    "            # Schedule three calls *concurrently*:\n",
    "            L = await asyncio.gather(\n",
    "                factorial(\"A\", 2),\n",
    "                factorial(\"B\", 3),\n",
    "                factorial(\"C\", 4),\n",
    "            )\n",
    "        print(L)\n",
    "    except TimeoutError:\n",
    "        print(\"Einige Faktorials konnten nicht berechnet werden!\")\n",
    "    \n",
    "asyncio.run(main())"
   ]
  },
  {
   "cell_type": "code",
   "execution_count": 17,
   "metadata": {},
   "outputs": [
    {
     "name": "stdout",
     "output_type": "stream",
     "text": [
      "schlaffe\n",
      "Timeout reached, event was not set.\n"
     ]
    }
   ],
   "source": [
    "async def wait_for_event(event):\n",
    "    print(\"schlaffe\")\n",
    "    #await asyncio.sleep(10)\n",
    "    try:\n",
    "        await asyncio.wait_for(event.wait(), timeout=10.0)\n",
    "        print(\"Event was set!\")\n",
    "    except asyncio.TimeoutError:\n",
    "        print(\"Timeout reached, event was not set.\")\n",
    "\n",
    "event = None\n",
    "async def main():\n",
    "    global event \n",
    "    event = asyncio.Event()\n",
    "\n",
    "    # Start the coroutine to wait for the event\n",
    "    asyncio.create_task(wait_for_event(event))   # Das ist der Grund, warum der Aufruf nichtblockierend ist!\n",
    "\n",
    "# Run the main function\n",
    "asyncio.run(main())\n"
   ]
  },
  {
   "cell_type": "code",
   "execution_count": 10,
   "metadata": {},
   "outputs": [],
   "source": [
    "# Set the event (uncomment to set the event and see different behavior)\n",
    "event.set()"
   ]
  },
  {
   "cell_type": "code",
   "execution_count": null,
   "metadata": {},
   "outputs": [],
   "source": []
  }
 ],
 "metadata": {
  "kernelspec": {
   "display_name": "Python 3",
   "language": "python",
   "name": "python3"
  },
  "language_info": {
   "codemirror_mode": {
    "name": "ipython",
    "version": 3
   },
   "file_extension": ".py",
   "mimetype": "text/x-python",
   "name": "python",
   "nbconvert_exporter": "python",
   "pygments_lexer": "ipython3",
   "version": "3.12.1"
  }
 },
 "nbformat": 4,
 "nbformat_minor": 2
}
