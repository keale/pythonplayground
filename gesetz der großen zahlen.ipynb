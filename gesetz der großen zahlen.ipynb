{
 "cells": [
  {
   "cell_type": "code",
   "execution_count": 3,
   "metadata": {},
   "outputs": [],
   "source": [
    "import numpy as np\n",
    "import matplotlib.pyplot as plt\n",
    "def zwei_würfel(anzahl_würfe):\n",
    "    würfe = np.random.randint(1,7,anzahl_würfe) + np.random.randint(1,7,anzahl_würfe)\n",
    "    labels, counts = np.unique(würfe, return_counts=True)\n",
    "    plt.bar(labels, counts, align='center')\n",
    "    plt.gca().set_xticks(labels)\n",
    "    plt.show()\n",
    "    print('Es wurden gewürfelt: ')\n",
    "    i = 0\n",
    "    for l in labels:\n",
    "        print (l, \":\", counts[i], \" Mal\")\n",
    "        i+=1\n"
   ]
  },
  {
   "cell_type": "code",
   "execution_count": 4,
   "metadata": {},
   "outputs": [
    {
     "data": {
      "image/png": "[encoded data removed]",
      "text/plain": [
       "<Figure size 432x288 with 1 Axes>"
      ]
     },
     "metadata": {
      "needs_background": "light"
     },
     "output_type": "display_data"
    },
    {
     "name": "stdout",
     "output_type": "stream",
     "text": [
      "Es wurden gewürfelt: \n",
      "2 : 2773  Mal\n",
      "3 : 5556  Mal\n",
      "4 : 8490  Mal\n",
      "5 : 10968  Mal\n",
      "6 : 14075  Mal\n",
      "7 : 16586  Mal\n",
      "8 : 13803  Mal\n",
      "9 : 10896  Mal\n",
      "10 : 8475  Mal\n",
      "11 : 5565  Mal\n",
      "12 : 2813  Mal\n"
     ]
    }
   ],
   "source": [
    "zwei_würfel(int(100000))"
   ]
  },
  {
   "cell_type": "code",
   "execution_count": null,
   "metadata": {},
   "outputs": [],
   "source": []
  },
  {
   "cell_type": "code",
   "execution_count": null,
   "metadata": {},
   "outputs": [],
   "source": []
  }
 ],
 "metadata": {
  "kernelspec": {
   "display_name": "Python 3",
   "language": "python",
   "name": "python3"
  },
  "language_info": {
   "codemirror_mode": {
    "name": "ipython",
    "version": 3
   },
   "file_extension": ".py",
   "mimetype": "text/x-python",
   "name": "python",
   "nbconvert_exporter": "python",
   "pygments_lexer": "ipython3",
   "version": "3.7.4"
  }
 },
 "nbformat": 4,
 "nbformat_minor": 2
}
