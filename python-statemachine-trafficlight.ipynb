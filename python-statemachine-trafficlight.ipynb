{
 "cells": [
  {
   "cell_type": "code",
   "execution_count": 2,
   "metadata": {},
   "outputs": [],
   "source": [
    "from statemachine import StateMachine, State\n",
    "\n",
    "class TrafficLightMachine(StateMachine):\n",
    "    \"A traffic light machine\"\n",
    "    green = State(initial=True)\n",
    "    yellow = State()\n",
    "    red = State()\n",
    "\n",
    "    cycle = (\n",
    "        green.to(yellow)\n",
    "        | yellow.to(red)\n",
    "        | red.to(green)\n",
    "    )\n",
    "\n",
    "    def before_cycle(self, event: str, source: State, target: State, message: str = \"\"):\n",
    "        message = \". \" + message if message else \"\"\n",
    "        return f\"Running {event} from {source.id} to {target.id}{message}\"\n",
    "\n",
    "    def on_enter_red(self):\n",
    "        print(\"Don't move.\")\n",
    "\n",
    "    def on_exit_red(self):\n",
    "        print(\"Go ahead!\")\n"
   ]
  },
  {
   "cell_type": "code",
   "execution_count": 12,
   "metadata": {},
   "outputs": [],
   "source": [
    "sm=TrafficLightMachine()"
   ]
  },
  {
   "cell_type": "code",
   "execution_count": 15,
   "metadata": {},
   "outputs": [
    {
     "name": "stdout",
     "output_type": "stream",
     "text": [
      "Go ahead!\n"
     ]
    },
    {
     "data": {
      "text/plain": [
       "'Running cycle from red to green'"
      ]
     },
     "execution_count": 15,
     "metadata": {},
     "output_type": "execute_result"
    }
   ],
   "source": [
    "sm.send('cycle')"
   ]
  },
  {
   "cell_type": "code",
   "execution_count": null,
   "metadata": {},
   "outputs": [],
   "source": []
  }
 ],
 "metadata": {
  "kernelspec": {
   "display_name": "Python 3",
   "language": "python",
   "name": "python3"
  },
  "language_info": {
   "codemirror_mode": {
    "name": "ipython",
    "version": 3
   },
   "file_extension": ".py",
   "mimetype": "text/x-python",
   "name": "python",
   "nbconvert_exporter": "python",
   "pygments_lexer": "ipython3",
   "version": "3.12.1"
  }
 },
 "nbformat": 4,
 "nbformat_minor": 2
}
