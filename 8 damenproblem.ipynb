{
 "cells": [
  {
   "cell_type": "code",
   "execution_count": 20,
   "metadata": {},
   "outputs": [],
   "source": [
    "from random import randrange\n",
    "import chess\n",
    "\n",
    "class Field():\n",
    "    def __init__(self, x, y): # Schachnotation: A1, \"x\" dann \"y\"\n",
    "        if 0 <= x <= 7 :\n",
    "            self.x = x\n",
    "        else:\n",
    "            print(\"x must be between 0 and 7\") # Das muss durch Exception ersetzt werden.\n",
    "        if 0 <= y <= 7 :\n",
    "            self.y = y\n",
    "        else:\n",
    "            print(\"y must be between 0 and 7\") # dito\n",
    "        \n",
    "    def pychess_id(self): # 0o00 für A1, 0oO1 for B1 ... 0o10 für A2 ... 0o77 für H8\n",
    "        return self.y * 0o10 + self.x\n",
    "    \n",
    "    def __hash__(self): # ist notwendig für set.\n",
    "        return self.pychess_id()\n",
    "    \n",
    "    def __eq__(self, other): #== Operator. ist notwendig für set.\n",
    "        if not isinstance(other, Field):\n",
    "            return NotImplemented\n",
    "        return self.pychess_id() == other.pychess_id()\n",
    "        \n",
    "class Queen():\n",
    "    def __init__(self, x, y):\n",
    "        self.f = Field(x, y)\n",
    "        \n",
    "    def controlled_fields(self):\n",
    "        fields = {} # das ist ein Set. In einem Set sind die Elemente eindeutig. \n",
    "                    # Die Klasse muss __eq__ und __hash__ definieren. \n",
    "                    # https://docs.python.org/3.5/reference/datamodel.html#object.__hash__\n",
    "        x = self.f.x\n",
    "        y = self.f.y\n",
    "        fields = {Field(x+i,y) for i in range(-x, 8-x)} #Horizontale\n",
    "        fields = fields.union({Field(x,y+i) for i in range(-y, 8-y)}) #Vertikale\n",
    "        fields = fields.union({Field(x+i,y+i) for i in range(max(-x,-y), min(8-x,8-y))}) #1. Diagonale\n",
    "        fields = fields.union({Field(x-i,y+i) for i in range(max(x-7,-y), min(x+1, 7-y+1))})#2. Diagonale                               \n",
    "        return fields\n",
    "\n",
    "def queenproblem():\n",
    "    queens=[]\n",
    "    while len(queens) < 8:\n",
    "        queens = []\n",
    "        queens=[Queen(randrange(8),randrange(8))]\n",
    "        free_fields = {Field(x,y) for x in range(0,8) for y in range(0,8)}\n",
    "        free_fields.difference_update(queens[0].controlled_fields())\n",
    "        for i in range(7):\n",
    "            if len(free_fields) > 0: \n",
    "                ff = list(free_fields)[randrange(len(free_fields))]\n",
    "                q = Queen(ff.x,ff.y)\n",
    "                free_fields.difference_update(q.controlled_fields())\n",
    "                queens.append(q) \n",
    "    return queens"
   ]
  },
  {
   "cell_type": "code",
   "execution_count": 21,
   "metadata": {},
   "outputs": [
    {
     "name": "stdout",
     "output_type": "stream",
     "text": [
      "Average time for Queen Problem: 0.004624254114038355\n"
     ]
    },
    {
     "data": {
      "image/svg+xml": [
       "<svg height=\"400\" version=\"1.1\" viewBox=\"0 0 400 400\" width=\"400\" xmlns=\"http://www.w3.org/2000/svg\" xmlns:xlink=\"http://www.w3.org/1999/xlink\"><defs><g class=\"black queen\" fill=\"#000\" fill-rule=\"evenodd\" id=\"black-queen\" stroke=\"#000\" stroke-linecap=\"round\" stroke-linejoin=\"round\" stroke-width=\"1.5\"><g fill=\"#000\" stroke=\"none\"><circle cx=\"6\" cy=\"12\" r=\"2.75\" /><circle cx=\"14\" cy=\"9\" r=\"2.75\" /><circle cx=\"22.5\" cy=\"8\" r=\"2.75\" /><circle cx=\"31\" cy=\"9\" r=\"2.75\" /><circle cx=\"39\" cy=\"12\" r=\"2.75\" /></g><path d=\"M9 26c8.5-1.5 21-1.5 27 0l2.5-12.5L31 25l-.3-14.1-5.2 13.6-3-14.5-3 14.5-5.2-13.6L14 25 6.5 13.5 9 26zM9 26c0 2 1.5 2 2.5 4 1 1.5 1 1 .5 3.5-1.5 1-1.5 2.5-1.5 2.5-1.5 1.5.5 2.5.5 2.5 6.5 1 16.5 1 23 0 0 0 1.5-1 0-2.5 0 0 .5-1.5-1-2.5-.5-2.5-.5-2 .5-3.5 1-2 2.5-2 2.5-4-8.5-1.5-18.5-1.5-27 0z\" stroke-linecap=\"butt\" /><path d=\"M11 38.5a35 35 1 0 0 23 0\" fill=\"none\" stroke-linecap=\"butt\" /><path d=\"M11 29a35 35 1 0 1 23 0M12.5 31.5h20M11.5 34.5a35 35 1 0 0 22 0M10.5 37.5a35 35 1 0 0 24 0\" fill=\"none\" stroke=\"#fff\" /></g></defs><rect class=\"square dark a1\" fill=\"#d18b47\" height=\"45\" stroke=\"none\" width=\"45\" x=\"20\" y=\"335\" /><rect class=\"square light b1\" fill=\"#ffce9e\" height=\"45\" stroke=\"none\" width=\"45\" x=\"65\" y=\"335\" /><use transform=\"translate(65, 335)\" xlink:href=\"#black-queen\" /><rect class=\"square dark c1\" fill=\"#d18b47\" height=\"45\" stroke=\"none\" width=\"45\" x=\"110\" y=\"335\" /><rect class=\"square light d1\" fill=\"#ffce9e\" height=\"45\" stroke=\"none\" width=\"45\" x=\"155\" y=\"335\" /><rect class=\"square dark e1\" fill=\"#d18b47\" height=\"45\" stroke=\"none\" width=\"45\" x=\"200\" y=\"335\" /><rect class=\"square light f1\" fill=\"#ffce9e\" height=\"45\" stroke=\"none\" width=\"45\" x=\"245\" y=\"335\" /><rect class=\"square dark g1\" fill=\"#d18b47\" height=\"45\" stroke=\"none\" width=\"45\" x=\"290\" y=\"335\" /><rect class=\"square light h1\" fill=\"#ffce9e\" height=\"45\" stroke=\"none\" width=\"45\" x=\"335\" y=\"335\" /><rect class=\"square light a2\" fill=\"#ffce9e\" height=\"45\" stroke=\"none\" width=\"45\" x=\"20\" y=\"290\" /><rect class=\"square dark b2\" fill=\"#d18b47\" height=\"45\" stroke=\"none\" width=\"45\" x=\"65\" y=\"290\" /><rect class=\"square light c2\" fill=\"#ffce9e\" height=\"45\" stroke=\"none\" width=\"45\" x=\"110\" y=\"290\" /><rect class=\"square dark d2\" fill=\"#d18b47\" height=\"45\" stroke=\"none\" width=\"45\" x=\"155\" y=\"290\" /><rect class=\"square light e2\" fill=\"#ffce9e\" height=\"45\" stroke=\"none\" width=\"45\" x=\"200\" y=\"290\" /><rect class=\"square dark f2\" fill=\"#d18b47\" height=\"45\" stroke=\"none\" width=\"45\" x=\"245\" y=\"290\" /><rect class=\"square light g2\" fill=\"#ffce9e\" height=\"45\" stroke=\"none\" width=\"45\" x=\"290\" y=\"290\" /><rect class=\"square dark h2\" fill=\"#d18b47\" height=\"45\" stroke=\"none\" width=\"45\" x=\"335\" y=\"290\" /><use transform=\"translate(335, 290)\" xlink:href=\"#black-queen\" /><rect class=\"square dark a3\" fill=\"#d18b47\" height=\"45\" stroke=\"none\" width=\"45\" x=\"20\" y=\"245\" /><rect class=\"square light b3\" fill=\"#ffce9e\" height=\"45\" stroke=\"none\" width=\"45\" x=\"65\" y=\"245\" /><rect class=\"square dark c3\" fill=\"#d18b47\" height=\"45\" stroke=\"none\" width=\"45\" x=\"110\" y=\"245\" /><rect class=\"square light d3\" fill=\"#ffce9e\" height=\"45\" stroke=\"none\" width=\"45\" x=\"155\" y=\"245\" /><rect class=\"square dark e3\" fill=\"#d18b47\" height=\"45\" stroke=\"none\" width=\"45\" x=\"200\" y=\"245\" /><rect class=\"square light f3\" fill=\"#ffce9e\" height=\"45\" stroke=\"none\" width=\"45\" x=\"245\" y=\"245\" /><use transform=\"translate(245, 245)\" xlink:href=\"#black-queen\" /><rect class=\"square dark g3\" fill=\"#d18b47\" height=\"45\" stroke=\"none\" width=\"45\" x=\"290\" y=\"245\" /><rect class=\"square light h3\" fill=\"#ffce9e\" height=\"45\" stroke=\"none\" width=\"45\" x=\"335\" y=\"245\" /><rect class=\"square light a4\" fill=\"#ffce9e\" height=\"45\" stroke=\"none\" width=\"45\" x=\"20\" y=\"200\" /><use transform=\"translate(20, 200)\" xlink:href=\"#black-queen\" /><rect class=\"square dark b4\" fill=\"#d18b47\" height=\"45\" stroke=\"none\" width=\"45\" x=\"65\" y=\"200\" /><rect class=\"square light c4\" fill=\"#ffce9e\" height=\"45\" stroke=\"none\" width=\"45\" x=\"110\" y=\"200\" /><rect class=\"square dark d4\" fill=\"#d18b47\" height=\"45\" stroke=\"none\" width=\"45\" x=\"155\" y=\"200\" /><rect class=\"square light e4\" fill=\"#ffce9e\" height=\"45\" stroke=\"none\" width=\"45\" x=\"200\" y=\"200\" /><rect class=\"square dark f4\" fill=\"#d18b47\" height=\"45\" stroke=\"none\" width=\"45\" x=\"245\" y=\"200\" /><rect class=\"square light g4\" fill=\"#ffce9e\" height=\"45\" stroke=\"none\" width=\"45\" x=\"290\" y=\"200\" /><rect class=\"square dark h4\" fill=\"#d18b47\" height=\"45\" stroke=\"none\" width=\"45\" x=\"335\" y=\"200\" /><rect class=\"square dark a5\" fill=\"#d18b47\" height=\"45\" stroke=\"none\" width=\"45\" x=\"20\" y=\"155\" /><rect class=\"square light b5\" fill=\"#ffce9e\" height=\"45\" stroke=\"none\" width=\"45\" x=\"65\" y=\"155\" /><rect class=\"square dark c5\" fill=\"#d18b47\" height=\"45\" stroke=\"none\" width=\"45\" x=\"110\" y=\"155\" /><use transform=\"translate(110, 155)\" xlink:href=\"#black-queen\" /><rect class=\"square light d5\" fill=\"#ffce9e\" height=\"45\" stroke=\"none\" width=\"45\" x=\"155\" y=\"155\" /><rect class=\"square dark e5\" fill=\"#d18b47\" height=\"45\" stroke=\"none\" width=\"45\" x=\"200\" y=\"155\" /><rect class=\"square light f5\" fill=\"#ffce9e\" height=\"45\" stroke=\"none\" width=\"45\" x=\"245\" y=\"155\" /><rect class=\"square dark g5\" fill=\"#d18b47\" height=\"45\" stroke=\"none\" width=\"45\" x=\"290\" y=\"155\" /><rect class=\"square light h5\" fill=\"#ffce9e\" height=\"45\" stroke=\"none\" width=\"45\" x=\"335\" y=\"155\" /><rect class=\"square light a6\" fill=\"#ffce9e\" height=\"45\" stroke=\"none\" width=\"45\" x=\"20\" y=\"110\" /><rect class=\"square dark b6\" fill=\"#d18b47\" height=\"45\" stroke=\"none\" width=\"45\" x=\"65\" y=\"110\" /><rect class=\"square light c6\" fill=\"#ffce9e\" height=\"45\" stroke=\"none\" width=\"45\" x=\"110\" y=\"110\" /><rect class=\"square dark d6\" fill=\"#d18b47\" height=\"45\" stroke=\"none\" width=\"45\" x=\"155\" y=\"110\" /><rect class=\"square light e6\" fill=\"#ffce9e\" height=\"45\" stroke=\"none\" width=\"45\" x=\"200\" y=\"110\" /><use transform=\"translate(200, 110)\" xlink:href=\"#black-queen\" /><rect class=\"square dark f6\" fill=\"#d18b47\" height=\"45\" stroke=\"none\" width=\"45\" x=\"245\" y=\"110\" /><rect class=\"square light g6\" fill=\"#ffce9e\" height=\"45\" stroke=\"none\" width=\"45\" x=\"290\" y=\"110\" /><rect class=\"square dark h6\" fill=\"#d18b47\" height=\"45\" stroke=\"none\" width=\"45\" x=\"335\" y=\"110\" /><rect class=\"square dark a7\" fill=\"#d18b47\" height=\"45\" stroke=\"none\" width=\"45\" x=\"20\" y=\"65\" /><rect class=\"square light b7\" fill=\"#ffce9e\" height=\"45\" stroke=\"none\" width=\"45\" x=\"65\" y=\"65\" /><rect class=\"square dark c7\" fill=\"#d18b47\" height=\"45\" stroke=\"none\" width=\"45\" x=\"110\" y=\"65\" /><rect class=\"square light d7\" fill=\"#ffce9e\" height=\"45\" stroke=\"none\" width=\"45\" x=\"155\" y=\"65\" /><rect class=\"square dark e7\" fill=\"#d18b47\" height=\"45\" stroke=\"none\" width=\"45\" x=\"200\" y=\"65\" /><rect class=\"square light f7\" fill=\"#ffce9e\" height=\"45\" stroke=\"none\" width=\"45\" x=\"245\" y=\"65\" /><rect class=\"square dark g7\" fill=\"#d18b47\" height=\"45\" stroke=\"none\" width=\"45\" x=\"290\" y=\"65\" /><use transform=\"translate(290, 65)\" xlink:href=\"#black-queen\" /><rect class=\"square light h7\" fill=\"#ffce9e\" height=\"45\" stroke=\"none\" width=\"45\" x=\"335\" y=\"65\" /><rect class=\"square light a8\" fill=\"#ffce9e\" height=\"45\" stroke=\"none\" width=\"45\" x=\"20\" y=\"20\" /><rect class=\"square dark b8\" fill=\"#d18b47\" height=\"45\" stroke=\"none\" width=\"45\" x=\"65\" y=\"20\" /><rect class=\"square light c8\" fill=\"#ffce9e\" height=\"45\" stroke=\"none\" width=\"45\" x=\"110\" y=\"20\" /><rect class=\"square dark d8\" fill=\"#d18b47\" height=\"45\" stroke=\"none\" width=\"45\" x=\"155\" y=\"20\" /><use transform=\"translate(155, 20)\" xlink:href=\"#black-queen\" /><rect class=\"square light e8\" fill=\"#ffce9e\" height=\"45\" stroke=\"none\" width=\"45\" x=\"200\" y=\"20\" /><rect class=\"square dark f8\" fill=\"#d18b47\" height=\"45\" stroke=\"none\" width=\"45\" x=\"245\" y=\"20\" /><rect class=\"square light g8\" fill=\"#ffce9e\" height=\"45\" stroke=\"none\" width=\"45\" x=\"290\" y=\"20\" /><rect class=\"square dark h8\" fill=\"#d18b47\" height=\"45\" stroke=\"none\" width=\"45\" x=\"335\" y=\"20\" /><text alignment-baseline=\"middle\" font-size=\"14\" text-anchor=\"middle\" x=\"42\" y=\"10\">a</text><text alignment-baseline=\"middle\" font-size=\"14\" text-anchor=\"middle\" x=\"42\" y=\"390\">a</text><text alignment-baseline=\"middle\" font-size=\"14\" text-anchor=\"middle\" x=\"87\" y=\"10\">b</text><text alignment-baseline=\"middle\" font-size=\"14\" text-anchor=\"middle\" x=\"87\" y=\"390\">b</text><text alignment-baseline=\"middle\" font-size=\"14\" text-anchor=\"middle\" x=\"132\" y=\"10\">c</text><text alignment-baseline=\"middle\" font-size=\"14\" text-anchor=\"middle\" x=\"132\" y=\"390\">c</text><text alignment-baseline=\"middle\" font-size=\"14\" text-anchor=\"middle\" x=\"177\" y=\"10\">d</text><text alignment-baseline=\"middle\" font-size=\"14\" text-anchor=\"middle\" x=\"177\" y=\"390\">d</text><text alignment-baseline=\"middle\" font-size=\"14\" text-anchor=\"middle\" x=\"222\" y=\"10\">e</text><text alignment-baseline=\"middle\" font-size=\"14\" text-anchor=\"middle\" x=\"222\" y=\"390\">e</text><text alignment-baseline=\"middle\" font-size=\"14\" text-anchor=\"middle\" x=\"267\" y=\"10\">f</text><text alignment-baseline=\"middle\" font-size=\"14\" text-anchor=\"middle\" x=\"267\" y=\"390\">f</text><text alignment-baseline=\"middle\" font-size=\"14\" text-anchor=\"middle\" x=\"312\" y=\"10\">g</text><text alignment-baseline=\"middle\" font-size=\"14\" text-anchor=\"middle\" x=\"312\" y=\"390\">g</text><text alignment-baseline=\"middle\" font-size=\"14\" text-anchor=\"middle\" x=\"357\" y=\"10\">h</text><text alignment-baseline=\"middle\" font-size=\"14\" text-anchor=\"middle\" x=\"357\" y=\"390\">h</text><text alignment-baseline=\"middle\" font-size=\"14\" text-anchor=\"middle\" x=\"10\" y=\"357\">1</text><text alignment-baseline=\"middle\" font-size=\"14\" text-anchor=\"middle\" x=\"390\" y=\"357\">1</text><text alignment-baseline=\"middle\" font-size=\"14\" text-anchor=\"middle\" x=\"10\" y=\"312\">2</text><text alignment-baseline=\"middle\" font-size=\"14\" text-anchor=\"middle\" x=\"390\" y=\"312\">2</text><text alignment-baseline=\"middle\" font-size=\"14\" text-anchor=\"middle\" x=\"10\" y=\"267\">3</text><text alignment-baseline=\"middle\" font-size=\"14\" text-anchor=\"middle\" x=\"390\" y=\"267\">3</text><text alignment-baseline=\"middle\" font-size=\"14\" text-anchor=\"middle\" x=\"10\" y=\"222\">4</text><text alignment-baseline=\"middle\" font-size=\"14\" text-anchor=\"middle\" x=\"390\" y=\"222\">4</text><text alignment-baseline=\"middle\" font-size=\"14\" text-anchor=\"middle\" x=\"10\" y=\"177\">5</text><text alignment-baseline=\"middle\" font-size=\"14\" text-anchor=\"middle\" x=\"390\" y=\"177\">5</text><text alignment-baseline=\"middle\" font-size=\"14\" text-anchor=\"middle\" x=\"10\" y=\"132\">6</text><text alignment-baseline=\"middle\" font-size=\"14\" text-anchor=\"middle\" x=\"390\" y=\"132\">6</text><text alignment-baseline=\"middle\" font-size=\"14\" text-anchor=\"middle\" x=\"10\" y=\"87\">7</text><text alignment-baseline=\"middle\" font-size=\"14\" text-anchor=\"middle\" x=\"390\" y=\"87\">7</text><text alignment-baseline=\"middle\" font-size=\"14\" text-anchor=\"middle\" x=\"10\" y=\"42\">8</text><text alignment-baseline=\"middle\" font-size=\"14\" text-anchor=\"middle\" x=\"390\" y=\"42\">8</text></svg>"
      ],
      "text/plain": [
       "Board('3q4/6q1/4q3/2q5/q7/5q2/7q/1q6 w - - 0 1')"
      ]
     },
     "execution_count": 21,
     "metadata": {},
     "output_type": "execute_result"
    }
   ],
   "source": [
    "import time \n",
    "st = time.time()\n",
    "for i in range(1000):\n",
    "    qs = queenproblem()\n",
    "et = time.time()\n",
    "print(\"Average time for Queen Problem:\", (et-st)/i)\n",
    "board = chess.Board()    \n",
    "board.clear_board()\n",
    "for q in qs: \n",
    "    board.set_piece_at(q.f.pychess_id(), chess.Piece.from_symbol(\"q\"))\n",
    "board"
   ]
  },
  {
   "cell_type": "markdown",
   "metadata": {},
   "source": [
    "# Vollständige Lösung aus Wikipedia mit allen 92 Lösungen"
   ]
  },
  {
   "cell_type": "code",
   "execution_count": 2,
   "metadata": {},
   "outputs": [
    {
     "name": "stdout",
     "output_type": "stream",
     "text": [
      "[1, 3, 0, 2]\n",
      "[2, 0, 3, 1]\n"
     ]
    }
   ],
   "source": [
    "# Erzeuge eine Liste von Lösung auf einem Brett mit Reihen und Spalten.\n",
    "# Eine Lösung wird durch eine Liste der Spaltenpositionen,\n",
    "# indiziert durch die Reihennummer, angegeben.\n",
    "# Die Indizes beginnen mit Null.\n",
    "\n",
    "# AlexK [1;4] = a1; b4\n",
    "#[1, 3, 5, 2] = a2; d2; a1; c2\n",
    "# Die Funktion \"damenproblem\" nummeriert die Reihen ruckwärts: \n",
    "# Der erste Schritt beginnt mit Reihe Nr. 8 für 8+8 Brett. Durch die \n",
    "# Rekursion wird aber ein Stack First In, Last out aufgebaut.\n",
    "# Wenn die tiefste Stelle (0te Reihe) erreicht wurde, dann beginnt die \n",
    "# Abarbeitung des Stacks. D.h. die Fkt \"eine_dame_dazu\" wird zuerst mit\n",
    "# einer Reihen aufgerufen, dann mit zwei u.s.w. Somit werden Teillösungen\n",
    "# des Problems gesucht. Bei jedem Aufruf wird die List \"neue_loesungen\" \n",
    "# neu aufgebaut. Wenn in die neue Reihe keine Dame hinzugefügt werden \n",
    "# kann, wird die alte Lösung nicht übernommen.\n",
    "# Eine gute Erklärung zu rekursiven Aufrufen findet man hier:\n",
    "# https://realpython.com/python-thinking-recursively/\n",
    "def damenproblem(reihen, spalten):\n",
    "    if reihen <= 0:\n",
    "        return [[]] # keine Dame zu setzen; leeres Brett ist Lösung\n",
    "    else:\n",
    "       # AlexK Debug für bessere Verständlickeit.\n",
    "       # print(\"Reihen=\", reihen, \" Spalten = \", spalten)\n",
    "       # input() \n",
    "        return eine_dame_dazu(reihen - 1, spalten, damenproblem(reihen - 1, spalten))\n",
    "\n",
    "# Probiere alle Spalten, in denen für eine gegebene Teillösung\n",
    "# eine Dame in \"neue_reihe\" gestellt werden kann.\n",
    "# Wenn kein Konflikt mit der Teillösung auftritt,\n",
    "# ist eine neue Lösung des um eine Reihe erweiterten\n",
    "# Bretts gefunden.\n",
    "def eine_dame_dazu(neue_reihe, spalten, vorherige_loesungen):\n",
    "    neue_loesungen = []\n",
    "    for loesung in vorherige_loesungen:\n",
    "        # Versuche, eine Dame in jeder Spalte von neue_reihe einzufügen.\n",
    "        for neue_spalte in range(spalten):\n",
    "            # print('Versuch: %s in Reihe %s' % (neue_spalte, neue_reihe))\n",
    "            if kein_konflikt(neue_reihe, neue_spalte, loesung):\n",
    "                # Kein Konflikte, also ist dieser Versuch eine Lösung.\n",
    "                neue_loesungen.append(loesung + [neue_spalte])\n",
    "    return neue_loesungen\n",
    "\n",
    "# Kann eine Dame an die Position \"neue_spalte\"/\"neue_reihe\" gestellt werden,\n",
    "# ohne dass sie eine der schon stehenden Damen schlagen kann?\n",
    "def kein_konflikt(neue_reihe, neue_spalte, loesung):\n",
    "    # Stelle sicher, dass die neue Dame mit keiner der existierenden\n",
    "    # Damen auf einer Spalte oder Diagonalen steht.\n",
    "    for reihe in range(neue_reihe):\n",
    "        if (loesung[reihe]         == neue_spalte              or  # gleiche Spalte\n",
    "            loesung[reihe] + reihe == neue_spalte + neue_reihe or  # gleiche Diagonale\n",
    "            loesung[reihe] - reihe == neue_spalte - neue_reihe):   # gleiche Diagonale\n",
    "                return False\n",
    "    return True\n",
    "\n",
    "size=4\n",
    "for loesung in damenproblem(size, size):\n",
    "    print(loesung)"
   ]
  },
  {
   "cell_type": "markdown",
   "metadata": {},
   "source": [
    "### Veranschaulichung des Funktionsstacks am Beispeil der Fakultätsfunktion:"
   ]
  },
  {
   "cell_type": "code",
   "execution_count": 3,
   "metadata": {},
   "outputs": [
    {
     "data": {
      "text/plain": [
       "120"
      ]
     },
     "execution_count": 3,
     "metadata": {},
     "output_type": "execute_result"
    }
   ],
   "source": [
    "def fakultaet(n):\n",
    "    #print(n)\n",
    "    if n > 1:\n",
    "        return n*fakultaet(n-1)\n",
    "    else:\n",
    "        return n\n",
    "\n",
    "fakultaet(5)"
   ]
  },
  {
   "cell_type": "markdown",
   "metadata": {},
   "source": [
    "![SegmentLocal](stack.9c4ba62929cf.gif\"segment\")"
   ]
  },
  {
   "cell_type": "code",
   "execution_count": 16,
   "metadata": {
    "scrolled": true
   },
   "outputs": [],
   "source": [
    "# lösung von Großmeister Niklaus Wirth\n",
    "# n: Feldgröße\n",
    "# a: Lösung\n",
    "# \n",
    "# Umrechunung in Schachnotation: [0;3] = a1; d2\n",
    "\n",
    "def tryout(n, neu_zeile, sol, b, c):\n",
    "    print(\"sol= \",sol,\"neu_zeile= \",neu_zeile, \"b= \",b, \"c= \", c)\n",
    "    if neu_zeile < n:\n",
    "        for spalte in range(n):\n",
    "            if spalte not in sol and neu_zeile+spalte not in b and neu_zeile-spalte not in c:\n",
    "                #sol+[spalte] anhängen von spalte an die Liste sol.\n",
    "                for solution in tryout(n, neu_zeile+1, sol+[spalte], b+[neu_zeile+spalte], c+[neu_zeile-spalte]):  \n",
    "                    print(\"solution=\", solution)\n",
    "                    yield solution\n",
    "    else:\n",
    "        yield sol"
   ]
  },
  {
   "cell_type": "code",
   "execution_count": 25,
   "metadata": {},
   "outputs": [
    {
     "name": "stdout",
     "output_type": "stream",
     "text": [
      "sol=  [] neu_zeile=  0 b=  [] c=  []\n",
      "sol=  [0] neu_zeile=  1 b=  [0] c=  [0]\n",
      "sol=  [0, 2] neu_zeile=  2 b=  [0, 3] c=  [0, -1]\n",
      "sol=  [0, 3] neu_zeile=  2 b=  [0, 4] c=  [0, -2]\n",
      "sol=  [0, 3, 1] neu_zeile=  3 b=  [0, 4, 3] c=  [0, -2, 1]\n",
      "sol=  [1] neu_zeile=  1 b=  [1] c=  [-1]\n",
      "sol=  [1, 3] neu_zeile=  2 b=  [1, 4] c=  [-1, -2]\n",
      "sol=  [1, 3, 0] neu_zeile=  3 b=  [1, 4, 2] c=  [-1, -2, 2]\n",
      "sol=  [1, 3, 0, 2] neu_zeile=  4 b=  [1, 4, 2, 5] c=  [-1, -2, 2, 1]\n",
      "solution= [1, 3, 0, 2]\n",
      "solution= [1, 3, 0, 2]\n",
      "solution= [1, 3, 0, 2]\n",
      "solution= [1, 3, 0, 2]\n",
      "[1, 3, 0, 2]\n",
      "sol=  [2] neu_zeile=  1 b=  [2] c=  [-2]\n",
      "sol=  [2, 0] neu_zeile=  2 b=  [2, 1] c=  [-2, 1]\n",
      "sol=  [2, 0, 3] neu_zeile=  3 b=  [2, 1, 5] c=  [-2, 1, -1]\n",
      "sol=  [2, 0, 3, 1] neu_zeile=  4 b=  [2, 1, 5, 4] c=  [-2, 1, -1, 2]\n",
      "solution= [2, 0, 3, 1]\n",
      "solution= [2, 0, 3, 1]\n",
      "solution= [2, 0, 3, 1]\n",
      "solution= [2, 0, 3, 1]\n",
      "[2, 0, 3, 1]\n",
      "sol=  [3] neu_zeile=  1 b=  [3] c=  [-3]\n",
      "sol=  [3, 0] neu_zeile=  2 b=  [3, 1] c=  [-3, 1]\n",
      "sol=  [3, 0, 2] neu_zeile=  3 b=  [3, 1, 4] c=  [-3, 1, 0]\n",
      "sol=  [3, 1] neu_zeile=  2 b=  [3, 2] c=  [-3, 0]\n"
     ]
    }
   ],
   "source": [
    "for solution in tryout(4, 0, [], [], []):\n",
    "    print(solution)"
   ]
  },
  {
   "cell_type": "code",
   "execution_count": 48,
   "metadata": {},
   "outputs": [],
   "source": [
    "def myfunk(a,b):\n",
    "    if b < a:\n",
    "        for i in myfunk(a,b+1):\n",
    "            yield b*a\n",
    "    else: yield 0"
   ]
  },
  {
   "cell_type": "code",
   "execution_count": 49,
   "metadata": {},
   "outputs": [
    {
     "name": "stdout",
     "output_type": "stream",
     "text": [
      "0\n"
     ]
    }
   ],
   "source": [
    "for i in myfunk(3,0):\n",
    "    print(i)"
   ]
  },
  {
   "cell_type": "code",
   "execution_count": 11,
   "metadata": {},
   "outputs": [
    {
     "data": {
      "text/plain": [
       "[[1, 2], [3, 4]]"
      ]
     },
     "execution_count": 11,
     "metadata": {},
     "output_type": "execute_result"
    }
   ],
   "source": [
    "erg=[]\n",
    "erg.append([1]+[2])\n",
    "erg.append([3]+[4])\n",
    "erg"
   ]
  },
  {
   "cell_type": "code",
   "execution_count": null,
   "metadata": {},
   "outputs": [],
   "source": []
  }
 ],
 "metadata": {
  "kernelspec": {
   "display_name": "Python 3",
   "language": "python",
   "name": "python3"
  },
  "language_info": {
   "codemirror_mode": {
    "name": "ipython",
    "version": 3
   },
   "file_extension": ".py",
   "mimetype": "text/x-python",
   "name": "python",
   "nbconvert_exporter": "python",
   "pygments_lexer": "ipython3",
   "version": "3.8.3"
  }
 },
 "nbformat": 4,
 "nbformat_minor": 2
}
