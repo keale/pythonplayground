{
 "cells": [
  {
   "cell_type": "code",
   "execution_count": 2,
   "metadata": {},
   "outputs": [
    {
     "name": "stdout",
     "output_type": "stream",
     "text": [
      "[['pushButton00', 'pushButton01', 'pushButton02'], ['pushButton10', 'pushButton11', 'pushButton12'], ['pushButton20', 'pushButton21', 'pushButton22']]\n",
      "pushButton20\n"
     ]
    }
   ],
   "source": [
    "matrix = [[f'pushButton{x}{y}' for y in range(3)] for x in range(3)]\n",
    "print(matrix)\n",
    "print(matrix[2][0])"
   ]
  },
  {
   "cell_type": "code",
   "execution_count": 3,
   "metadata": {},
   "outputs": [
    {
     "name": "stdout",
     "output_type": "stream",
     "text": [
      "a\\b\n"
     ]
    }
   ],
   "source": [
    "print(r\"a\\b\")"
   ]
  },
  {
   "cell_type": "code",
   "execution_count": 7,
   "metadata": {},
   "outputs": [
    {
     "name": "stdout",
     "output_type": "stream",
     "text": [
      "4\n"
     ]
    }
   ],
   "source": [
    "adders=[None, None, None, None]\n",
    "\n",
    "for i in [0,1,2,3]:\n",
    "   adders[i]=lambda a, i=i: i+a\n",
    "\n",
    "print( adders[1](3))"
   ]
  },
  {
   "cell_type": "code",
   "execution_count": 20,
   "metadata": {},
   "outputs": [
    {
     "name": "stdout",
     "output_type": "stream",
     "text": [
      "0\n"
     ]
    }
   ],
   "source": [
    "a=2\n",
    "a^= 2\n",
    "print(a)"
   ]
  },
  {
   "cell_type": "code",
   "execution_count": 12,
   "metadata": {},
   "outputs": [
    {
     "name": "stdout",
     "output_type": "stream",
     "text": [
      "1\n"
     ]
    }
   ],
   "source": [
    "print(a)"
   ]
  },
  {
   "cell_type": "code",
   "execution_count": 25,
   "metadata": {},
   "outputs": [
    {
     "name": "stdout",
     "output_type": "stream",
     "text": [
      "Alle Elemente sind gleich: False\n"
     ]
    }
   ],
   "source": [
    "def are_all_elements_equal(arr):\n",
    "    # Überprüfe, ob alle Elemente gleich dem ersten Element sind\n",
    "    return all(element == arr[0] for element in arr)\n",
    "\n",
    "# Beispiel\n",
    "my_array = [\"X\", \"_\",\"X\"]\n",
    "result = are_all_elements_equal(my_array)\n",
    "print(f\"Alle Elemente sind gleich: {result}\")"
   ]
  },
  {
   "cell_type": "code",
   "execution_count": 32,
   "metadata": {},
   "outputs": [
    {
     "name": "stdout",
     "output_type": "stream",
     "text": [
      "False\n"
     ]
    }
   ],
   "source": [
    "array_2d = [\n",
    "    [1, 2, 0],\n",
    "    [0, 0, 0],\n",
    "    [0, 0, 0]\n",
    "]\n",
    "zeile =  array_2d[0]\n",
    "won = all(e == zeile[0] for e in zeile)\n",
    "print(f\"{won}\")\n"
   ]
  },
  {
   "cell_type": "code",
   "execution_count": null,
   "metadata": {},
   "outputs": [],
   "source": []
  }
 ],
 "metadata": {
  "kernelspec": {
   "display_name": "Python 3",
   "language": "python",
   "name": "python3"
  },
  "language_info": {
   "codemirror_mode": {
    "name": "ipython",
    "version": 3
   },
   "file_extension": ".py",
   "mimetype": "text/x-python",
   "name": "python",
   "nbconvert_exporter": "python",
   "pygments_lexer": "ipython3",
   "version": "3.12.1"
  }
 },
 "nbformat": 4,
 "nbformat_minor": 2
}
